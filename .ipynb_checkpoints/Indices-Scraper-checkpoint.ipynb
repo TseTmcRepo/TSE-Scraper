{
 "cells": [
  {
   "cell_type": "code",
   "execution_count": 1,
   "metadata": {},
   "outputs": [],
   "source": [
    "# import libraries\n",
    "import requests\n",
    "from bs4 import BeautifulSoup\n",
    "import pandas as pd\n",
    "from textwrap import wrap\n",
    "import re\n",
    "import jdatetime"
   ]
  },
  {
   "cell_type": "code",
   "execution_count": 2,
   "metadata": {},
   "outputs": [],
   "source": [
    "# URLs\n",
    "file_path = './data/Industry-Indices.xlsx'\n",
    "tse_main_url = 'http://www.tsetmc.com/Loader.aspx?ParTree=15'\n",
    "industries_operation_url = 'http://www.tsetmc.com/Loader.aspx?Partree=15131O'"
   ]
  },
  {
   "cell_type": "markdown",
   "metadata": {},
   "source": [
    "## Fetching data"
   ]
  },
  {
   "cell_type": "code",
   "execution_count": 3,
   "metadata": {},
   "outputs": [
    {
     "data": {
      "text/plain": [
       "'<!doctype html><html><head><title>.:TSETMC:. :: شرکت مدیریت فناوری بورس تهران</title><script>var LongRunnigPagesSite=\\'http://cdn2.tsetmc.com\\';function ens(ty,sv){var lv=localStorage.getItem(\"v_\"+ty);var t;if (1==1 || lv!=sv){var oX=new XMLHttpRequest();oX.open(\\'GET\\', \\'tsev2/res/loader.aspx?t=\\'+ty+\\'&'"
      ]
     },
     "execution_count": 3,
     "metadata": {},
     "output_type": "execute_result"
    }
   ],
   "source": [
    "res = requests.get(url=tse_main_url)\n",
    "res.text[:300]"
   ]
  },
  {
   "cell_type": "code",
   "execution_count": 4,
   "metadata": {},
   "outputs": [],
   "source": [
    "def get_and_parse_url(url, params=None):\n",
    "    \"\"\"\n",
    "        get a URL, grab the data, and return a BeautifulSoup object with parsed data\n",
    "    \"\"\"\n",
    "    res = requests.get(url=url, params=params)\n",
    "    soup = BeautifulSoup(markup=res.text, features='html.parser')\n",
    "    return soup"
   ]
  },
  {
   "cell_type": "code",
   "execution_count": 5,
   "metadata": {},
   "outputs": [
    {
     "name": "stdout",
     "output_type": "stream",
     "text": [
      "<!DOCTYPE doctype html>\n",
      "<html>\n",
      " <head>\n",
      "  <title>\n",
      "   .:TSETMC:. :: برترین گروه های صنعت\n",
      "  </title>\n",
      "  <script>\n",
      "   var LongRunnigPagesSite='http://cdn2.tsetmc.com';function ens(ty,sv){var lv=localStorage.getItem(\"v_\"+ty);var t;if (1==1 || lv!=sv){var oX=new XMLHttpRequest();oX.open('GET', 'tsev2/res/loader.aspx?t='+ty+'&_'+sv,false);oX.send(null);t=oX.responseText;if(t[t.length-1]!=';') return;localStorage.setItem(\"v_\"+ty,sv);localStorage.setItem(\"t_\"+ty,t)}else{t=localStorage.getItem(\"t_\"+ty)}if (\n"
     ]
    }
   ],
   "source": [
    "soup = get_and_parse_url(url=industries_operation_url)\n",
    "print(soup.prettify()[:500])"
   ]
  },
  {
   "cell_type": "code",
   "execution_count": 6,
   "metadata": {},
   "outputs": [
    {
     "name": "stdout",
     "output_type": "stream",
     "text": [
      "<!DOCTYPE doctype html>\n",
      "<html>\n",
      " <head>\n",
      "  <title>\n",
      "   .:TSETMC:. :: شرکت مدیریت فناوری بورس تهران\n",
      "  </title>\n",
      "  <script>\n",
      "   var LongRunnigPagesSite='http://cdn2.tsetmc.com';function ens(ty,sv){var lv=localStorage.getItem(\"v_\"+ty);var t;if (1==1 || lv!=sv){var oX=new XMLHttpRequest();oX.open('GET', 'tsev2/res/loader.aspx?t='+ty+'&_'+sv,false);oX.send(null);t=oX.responseText;if(t[t.length-1]!=';') return;localStorage.setItem(\"v_\"+ty,sv);localStorage.setItem(\"t_\"+ty,t)}else{t=localStorage.getItem(\"t_\"\n"
     ]
    }
   ],
   "source": [
    "msoup = get_and_parse_url(url=tse_main_url)\n",
    "print(msoup.prettify()[:500])"
   ]
  },
  {
   "cell_type": "markdown",
   "metadata": {},
   "source": [
    "## Find the date (Jalali) and convert it to Gregorian"
   ]
  },
  {
   "cell_type": "code",
   "execution_count": 7,
   "metadata": {},
   "outputs": [
    {
     "data": {
      "text/plain": [
       "2"
      ]
     },
     "execution_count": 7,
     "metadata": {},
     "output_type": "execute_result"
    }
   ],
   "source": [
    "# Market info located in a blue div\n",
    "blue_div = msoup.find_all(name='div', class_='box1 blue tbl z1_4 h210')\n",
    "len(blue_div)"
   ]
  },
  {
   "cell_type": "code",
   "execution_count": 8,
   "metadata": {},
   "outputs": [
    {
     "data": {
      "text/plain": [
       "<div class=\"box1 blue tbl z1_4 h210\">\n",
       "<div class=\"header\">بازار نقدی بورس در یک نگاه</div>\n",
       "<div class=\"content\">\n",
       "<table class=\"table1\">\n",
       "<tbody>\n",
       "<tr>\n",
       "<td>وضعیت بازار</td>\n",
       "<td>بسته <span class=\"RealServerTime\"><!--RealServerTime--></span></td>\n",
       "</tr>\n",
       "<tr>\n",
       "<td>شاخص کل</td>\n",
       "<td>229,808.83 <div class=\"pn\">2920.73</div></td>\n",
       "</tr>\n",
       "<tr>\n",
       "<td>شاخص كل (هم وزن)</td>\n",
       "<td>55,976.26 <div class=\"pn\">1534.65</div></td>\n",
       "</tr>\n",
       "<tr>\n",
       "<td>ارزش بازار</td>\n",
       "<td><div class=\"ltr\" title=\"8,723,386,601,944,819\">8,723,386.602 B</div></td>\n",
       "</tr>\n",
       "<tr>\n",
       "<td>اطلاعات قیمت</td>\n",
       "<td>98/3/19 16:08:38</td>\n",
       "</tr>\n",
       "<tr>\n",
       "<td>تعداد معاملات</td>\n",
       "<td>291,939</td>\n",
       "</tr>\n",
       "<tr>\n",
       "<td>ارزش معاملات</td>\n",
       "<td><div class=\"ltr\" title=\"14,719,301,430,525\">14,719.301 B</div></td>\n",
       "</tr>\n",
       "<tr>\n",
       "<td>حجم معاملات</td>\n",
       "<td><div class=\"ltr\" title=\"4,065,458,593\">4.065 B</div></td>\n",
       "</tr>\n",
       "</tbody>\n",
       "</table>\n",
       "</div>\n",
       "</div>"
      ]
     },
     "execution_count": 8,
     "metadata": {},
     "output_type": "execute_result"
    }
   ],
   "source": [
    "# first blue div is the one that I need\n",
    "blue_div[0]"
   ]
  },
  {
   "cell_type": "code",
   "execution_count": 9,
   "metadata": {},
   "outputs": [
    {
     "data": {
      "text/plain": [
       "'1398/3/19 16:08:38'"
      ]
     },
     "execution_count": 9,
     "metadata": {},
     "output_type": "execute_result"
    }
   ],
   "source": [
    "# Grab the datetime out of the blue div\n",
    "tds = blue_div[0].find_all('td')\n",
    "info_datetime = tds[9].string\n",
    "info_datetime = '13'+ info_datetime\n",
    "info_datetime"
   ]
  },
  {
   "cell_type": "code",
   "execution_count": 10,
   "metadata": {},
   "outputs": [
    {
     "data": {
      "text/plain": [
       "['1398', '03', '19']"
      ]
     },
     "execution_count": 10,
     "metadata": {},
     "output_type": "execute_result"
    }
   ],
   "source": [
    "# throw out the time part and clean the date part\n",
    "info_j_date = info_datetime[:10]\n",
    "info_j_date = info_j_date.strip().split('/')\n",
    "info_j_date[1] = ('0' + info_j_date[1]) if len(info_j_date[1]) < 2 else info_j_date[1]\n",
    "info_j_date[2] = ('0' + info_j_date[2]) if len(info_j_date[2]) < 2 else info_j_date[2]\n",
    "info_j_date"
   ]
  },
  {
   "cell_type": "code",
   "execution_count": 11,
   "metadata": {},
   "outputs": [
    {
     "data": {
      "text/plain": [
       "datetime.date(2019, 6, 9)"
      ]
     },
     "execution_count": 11,
     "metadata": {},
     "output_type": "execute_result"
    }
   ],
   "source": [
    "# convert Jalali date to Gregorian date\n",
    "info_c_date = jdatetime.date(year=int(info_j_date[0]), \n",
    "                             month=int(info_j_date[1]), \n",
    "                             day=int(info_j_date[2])).togregorian()\n",
    "info_c_date"
   ]
  },
  {
   "cell_type": "code",
   "execution_count": 12,
   "metadata": {},
   "outputs": [
    {
     "name": "stdout",
     "output_type": "stream",
     "text": [
      "2019-06-09\n",
      "1398-03-19\n"
     ]
    }
   ],
   "source": [
    "# convert both Jalali and Gregorian date to string\n",
    "info_c_date = info_c_date.strftime('%Y-%m-%d')\n",
    "info_j_date = '{}-{}-{}'.format(info_j_date[0], info_j_date[1], info_j_date[2])\n",
    "print(info_c_date)\n",
    "print(info_j_date)"
   ]
  },
  {
   "cell_type": "markdown",
   "metadata": {},
   "source": [
    "## Searching for required data and preparing them"
   ]
  },
  {
   "cell_type": "code",
   "execution_count": 13,
   "metadata": {},
   "outputs": [
    {
     "data": {
      "text/plain": [
       "41"
      ]
     },
     "execution_count": 13,
     "metadata": {},
     "output_type": "execute_result"
    }
   ],
   "source": [
    "rows = soup.tbody.find_all(name='tr')\n",
    "len(rows)"
   ]
  },
  {
   "cell_type": "code",
   "execution_count": 14,
   "metadata": {},
   "outputs": [
    {
     "name": "stdout",
     "output_type": "stream",
     "text": [
      "[<tr><td>شاخص صنعت</td>\n",
      "<td><div class=\"ltr\" title=\"7,791,563,766,294,819\">7,791,563.766 B</div></td>\n",
      "<td>211,661</td>\n",
      "<td><div class=\"ltr\" title=\"2,099,442,477\">2.099 B</div></td>\n",
      "<td><div class=\"ltr\" title=\"9,250,453,444,196\">9,250.453 B</div></td>\n",
      "</tr>, <tr><td>34-خودرو</td>\n",
      "<td><div class=\"ltr\" title=\"283,194,663,505,523\">283,194.664 B</div></td>\n",
      "<td>31,946</td>\n",
      "<td><div class=\"ltr\" title=\"641,540,073\">641.540 M</div></td>\n",
      "<td><div class=\"ltr\" title=\"1,439,950,428,302\">1,439.950 B</div></td>\n",
      "</tr>]\n"
     ]
    }
   ],
   "source": [
    "print(rows[:2])"
   ]
  },
  {
   "cell_type": "code",
   "execution_count": 15,
   "metadata": {},
   "outputs": [],
   "source": [
    "rows = [r.find_all('td') for r in rows]"
   ]
  },
  {
   "cell_type": "code",
   "execution_count": 16,
   "metadata": {},
   "outputs": [
    {
     "data": {
      "text/plain": [
       "[<td>34-خودرو</td>,\n",
       " <td><div class=\"ltr\" title=\"283,194,663,505,523\">283,194.664 B</div></td>,\n",
       " <td>31,946</td>,\n",
       " <td><div class=\"ltr\" title=\"641,540,073\">641.540 M</div></td>,\n",
       " <td><div class=\"ltr\" title=\"1,439,950,428,302\">1,439.950 B</div></td>]"
      ]
     },
     "execution_count": 16,
     "metadata": {},
     "output_type": "execute_result"
    }
   ],
   "source": [
    "# col1: Group\n",
    "# col2: Market-Value\n",
    "# col3: Transactions-Number\n",
    "# col4: Transactions-Volume\n",
    "# col5: Transactions-Value\n",
    "rows[1]"
   ]
  },
  {
   "cell_type": "code",
   "execution_count": 17,
   "metadata": {},
   "outputs": [
    {
     "data": {
      "text/plain": [
       "['شاخص صنعت',\n",
       " '7,791,563.766 B',\n",
       " '211,661',\n",
       " '2.099 B',\n",
       " '9,250.453 B',\n",
       " '34-خودرو',\n",
       " '283,194.664 B',\n",
       " '31,946',\n",
       " '641.540 M',\n",
       " '1,439.950 B']"
      ]
     },
     "execution_count": 17,
     "metadata": {},
     "output_type": "execute_result"
    }
   ],
   "source": [
    "# get cells string and save them in a list\n",
    "values = []\n",
    "for row in rows:\n",
    "    for col in row:\n",
    "        values.append(col.string)\n",
    "        \n",
    "values[:10]"
   ]
  },
  {
   "cell_type": "code",
   "execution_count": 18,
   "metadata": {},
   "outputs": [
    {
     "data": {
      "text/plain": [
       "[['شاخص صنعت', '7,791,563.766 B', '211,661', '2.099 B', '9,250.453 B'],\n",
       " ['34-خودرو', '283,194.664 B', '31,946', '641.540 M', '1,439.950 B']]"
      ]
     },
     "execution_count": 18,
     "metadata": {},
     "output_type": "execute_result"
    }
   ],
   "source": [
    "# split the values into sized 5 chunks to represent each row in a list item\n",
    "values = [values[i:i+5] for i in range(0, len(values), 5)]\n",
    "values[:2]"
   ]
  },
  {
   "cell_type": "code",
   "execution_count": 19,
   "metadata": {},
   "outputs": [],
   "source": [
    "# remove the ',', 'B' and 'M' from the recieved string and convert it to a float number\n",
    "def purify_number(number):\n",
    "    number = str(number)\n",
    "    number = number.split(',')\n",
    "    number = ''.join(number)\n",
    "    number = number.strip()\n",
    "\n",
    "    if 'B' in number:\n",
    "        number = number.strip('B')\n",
    "        number = float(number) * 1000\n",
    "    elif 'M' in number:\n",
    "        number = number.strip('M')\n",
    "        #number = float(number) * 1000000\n",
    "    else:\n",
    "        number = float(number)\n",
    "\n",
    "    return number"
   ]
  },
  {
   "cell_type": "code",
   "execution_count": 20,
   "metadata": {},
   "outputs": [
    {
     "data": {
      "text/plain": [
       "141383.0"
      ]
     },
     "execution_count": 20,
     "metadata": {},
     "output_type": "execute_result"
    }
   ],
   "source": [
    "a = purify_number('   141.383 B    ')\n",
    "a"
   ]
  },
  {
   "cell_type": "code",
   "execution_count": 21,
   "metadata": {},
   "outputs": [],
   "source": [
    "# cleaning all the numbers\n",
    "for i in range(len(values)):\n",
    "    for j in range(1, len(values[0])):\n",
    "        values[i][j] = purify_number(values[i][j])"
   ]
  },
  {
   "cell_type": "code",
   "execution_count": 22,
   "metadata": {},
   "outputs": [
    {
     "data": {
      "text/plain": [
       "[['شاخص صنعت', 7791563766.0, 211661.0, 2099.0, 9250453.0],\n",
       " ['34-خودرو', 283194664.0, 31946.0, '641.540 ', 1439950.0],\n",
       " ['44-شيميايي', 1897530485.0, 23884.0, '208.416 ', 1095539.0]]"
      ]
     },
     "execution_count": 22,
     "metadata": {},
     "output_type": "execute_result"
    }
   ],
   "source": [
    "# now data is clean and ready to save\n",
    "values[:3]"
   ]
  },
  {
   "cell_type": "markdown",
   "metadata": {},
   "source": [
    "## Saving the clean data into excel file"
   ]
  },
  {
   "cell_type": "code",
   "execution_count": 23,
   "metadata": {},
   "outputs": [
    {
     "data": {
      "text/html": [
       "<div>\n",
       "<style scoped>\n",
       "    .dataframe tbody tr th:only-of-type {\n",
       "        vertical-align: middle;\n",
       "    }\n",
       "\n",
       "    .dataframe tbody tr th {\n",
       "        vertical-align: top;\n",
       "    }\n",
       "\n",
       "    .dataframe thead th {\n",
       "        text-align: right;\n",
       "    }\n",
       "</style>\n",
       "<table border=\"1\" class=\"dataframe\">\n",
       "  <thead>\n",
       "    <tr style=\"text-align: right;\">\n",
       "      <th></th>\n",
       "      <th>CDate</th>\n",
       "      <th>JDate</th>\n",
       "      <th>GroupNo</th>\n",
       "      <th>GroupName</th>\n",
       "      <th>MarketValue</th>\n",
       "      <th>TransactionsCount</th>\n",
       "      <th>TransactionsVol</th>\n",
       "      <th>TransactionsValue</th>\n",
       "    </tr>\n",
       "  </thead>\n",
       "  <tbody>\n",
       "    <tr>\n",
       "      <th>0</th>\n",
       "      <td>2019-06-03</td>\n",
       "      <td>1398-03-13</td>\n",
       "      <td>0</td>\n",
       "      <td>شاخص صنعت</td>\n",
       "      <td>7650169488</td>\n",
       "      <td>236046</td>\n",
       "      <td>2740.000</td>\n",
       "      <td>10212891.0</td>\n",
       "    </tr>\n",
       "    <tr>\n",
       "      <th>1</th>\n",
       "      <td>2019-06-03</td>\n",
       "      <td>1398-03-13</td>\n",
       "      <td>34</td>\n",
       "      <td>34-خودرو</td>\n",
       "      <td>269025262</td>\n",
       "      <td>62425</td>\n",
       "      <td>1399.000</td>\n",
       "      <td>2610194.0</td>\n",
       "    </tr>\n",
       "    <tr>\n",
       "      <th>2</th>\n",
       "      <td>2019-06-03</td>\n",
       "      <td>1398-03-13</td>\n",
       "      <td>57</td>\n",
       "      <td>57-بانكها</td>\n",
       "      <td>644373421</td>\n",
       "      <td>50274</td>\n",
       "      <td>1447.000</td>\n",
       "      <td>1194232.0</td>\n",
       "    </tr>\n",
       "    <tr>\n",
       "      <th>3</th>\n",
       "      <td>2019-06-03</td>\n",
       "      <td>1398-03-13</td>\n",
       "      <td>44</td>\n",
       "      <td>44-شيميايي</td>\n",
       "      <td>1900527339</td>\n",
       "      <td>20390</td>\n",
       "      <td>172.604</td>\n",
       "      <td>989110.0</td>\n",
       "    </tr>\n",
       "    <tr>\n",
       "      <th>4</th>\n",
       "      <td>2019-06-03</td>\n",
       "      <td>1398-03-13</td>\n",
       "      <td>27</td>\n",
       "      <td>27-فلزات اساسي</td>\n",
       "      <td>1389537365</td>\n",
       "      <td>15898</td>\n",
       "      <td>112.454</td>\n",
       "      <td>729291.0</td>\n",
       "    </tr>\n",
       "  </tbody>\n",
       "</table>\n",
       "</div>"
      ],
      "text/plain": [
       "        CDate       JDate  GroupNo       GroupName  MarketValue  \\\n",
       "0  2019-06-03  1398-03-13        0       شاخص صنعت   7650169488   \n",
       "1  2019-06-03  1398-03-13       34        34-خودرو    269025262   \n",
       "2  2019-06-03  1398-03-13       57       57-بانكها    644373421   \n",
       "3  2019-06-03  1398-03-13       44      44-شيميايي   1900527339   \n",
       "4  2019-06-03  1398-03-13       27  27-فلزات اساسي   1389537365   \n",
       "\n",
       "   TransactionsCount  TransactionsVol  TransactionsValue  \n",
       "0             236046         2740.000         10212891.0  \n",
       "1              62425         1399.000          2610194.0  \n",
       "2              50274         1447.000          1194232.0  \n",
       "3              20390          172.604           989110.0  \n",
       "4              15898          112.454           729291.0  "
      ]
     },
     "execution_count": 23,
     "metadata": {},
     "output_type": "execute_result"
    }
   ],
   "source": [
    "# read the original excel file\n",
    "df_main = pd.read_excel(file_path)\n",
    "df_main.head()"
   ]
  },
  {
   "cell_type": "code",
   "execution_count": 24,
   "metadata": {},
   "outputs": [],
   "source": [
    "# find the group number using regex\n",
    "def parse_group_no(text):\n",
    "    if re.search('\\d+', text):\n",
    "        group_no = re.findall('\\d+', text)[0]\n",
    "    else:\n",
    "        group_no = '0'\n",
    "        \n",
    "    return group_no"
   ]
  },
  {
   "cell_type": "code",
   "execution_count": 25,
   "metadata": {},
   "outputs": [],
   "source": [
    "# prepare a dict of values for creating a DataFrame\n",
    "CDate = info_c_date * len(values)\n",
    "CDate = wrap(text=CDate, width=10)\n",
    "JDate = info_j_date * len(values)\n",
    "JDate = wrap(text=JDate, width=10)\n",
    "data = {\n",
    "    'CDate': CDate,\n",
    "    'JDate': JDate,\n",
    "    'GroupNo': [parse_group_no(values[i][0]) for i in range(len(values))],\n",
    "    'GroupName': [(values[i][0]).encode('utf-8') for i in range(len(values))],\n",
    "    'MarketValue': [values[i][1] for i in range(len(values))],\n",
    "    'TransactionsCount': [values[i][2] for i in range(len(values))],\n",
    "    'TransactionsVol': [values[i][3] for i in range(len(values))],\n",
    "    'TransactionsValue': [values[i][4] for i in range(len(values))]\n",
    "}"
   ]
  },
  {
   "cell_type": "code",
   "execution_count": 26,
   "metadata": {},
   "outputs": [
    {
     "data": {
      "text/plain": [
       "{'CDate': ['2019-06-09',\n",
       "  '2019-06-09',\n",
       "  '2019-06-09',\n",
       "  '2019-06-09',\n",
       "  '2019-06-09',\n",
       "  '2019-06-09',\n",
       "  '2019-06-09',\n",
       "  '2019-06-09',\n",
       "  '2019-06-09',\n",
       "  '2019-06-09',\n",
       "  '2019-06-09',\n",
       "  '2019-06-09',\n",
       "  '2019-06-09',\n",
       "  '2019-06-09',\n",
       "  '2019-06-09',\n",
       "  '2019-06-09',\n",
       "  '2019-06-09',\n",
       "  '2019-06-09',\n",
       "  '2019-06-09',\n",
       "  '2019-06-09',\n",
       "  '2019-06-09',\n",
       "  '2019-06-09',\n",
       "  '2019-06-09',\n",
       "  '2019-06-09',\n",
       "  '2019-06-09',\n",
       "  '2019-06-09',\n",
       "  '2019-06-09',\n",
       "  '2019-06-09',\n",
       "  '2019-06-09',\n",
       "  '2019-06-09',\n",
       "  '2019-06-09',\n",
       "  '2019-06-09',\n",
       "  '2019-06-09',\n",
       "  '2019-06-09',\n",
       "  '2019-06-09',\n",
       "  '2019-06-09',\n",
       "  '2019-06-09',\n",
       "  '2019-06-09',\n",
       "  '2019-06-09',\n",
       "  '2019-06-09',\n",
       "  '2019-06-09'],\n",
       " 'JDate': ['1398-03-19',\n",
       "  '1398-03-19',\n",
       "  '1398-03-19',\n",
       "  '1398-03-19',\n",
       "  '1398-03-19',\n",
       "  '1398-03-19',\n",
       "  '1398-03-19',\n",
       "  '1398-03-19',\n",
       "  '1398-03-19',\n",
       "  '1398-03-19',\n",
       "  '1398-03-19',\n",
       "  '1398-03-19',\n",
       "  '1398-03-19',\n",
       "  '1398-03-19',\n",
       "  '1398-03-19',\n",
       "  '1398-03-19',\n",
       "  '1398-03-19',\n",
       "  '1398-03-19',\n",
       "  '1398-03-19',\n",
       "  '1398-03-19',\n",
       "  '1398-03-19',\n",
       "  '1398-03-19',\n",
       "  '1398-03-19',\n",
       "  '1398-03-19',\n",
       "  '1398-03-19',\n",
       "  '1398-03-19',\n",
       "  '1398-03-19',\n",
       "  '1398-03-19',\n",
       "  '1398-03-19',\n",
       "  '1398-03-19',\n",
       "  '1398-03-19',\n",
       "  '1398-03-19',\n",
       "  '1398-03-19',\n",
       "  '1398-03-19',\n",
       "  '1398-03-19',\n",
       "  '1398-03-19',\n",
       "  '1398-03-19',\n",
       "  '1398-03-19',\n",
       "  '1398-03-19',\n",
       "  '1398-03-19',\n",
       "  '1398-03-19'],\n",
       " 'GroupNo': ['0',\n",
       "  '34',\n",
       "  '44',\n",
       "  '57',\n",
       "  '43',\n",
       "  '27',\n",
       "  '56',\n",
       "  '13',\n",
       "  '53',\n",
       "  '72',\n",
       "  '60',\n",
       "  '23',\n",
       "  '74',\n",
       "  '42',\n",
       "  '70',\n",
       "  '31',\n",
       "  '54',\n",
       "  '73',\n",
       "  '38',\n",
       "  '58',\n",
       "  '28',\n",
       "  '29',\n",
       "  '39',\n",
       "  '25',\n",
       "  '01',\n",
       "  '66',\n",
       "  '67',\n",
       "  '49',\n",
       "  '47',\n",
       "  '64',\n",
       "  '40',\n",
       "  '11',\n",
       "  '21',\n",
       "  '22',\n",
       "  '14',\n",
       "  '10',\n",
       "  '17',\n",
       "  '20',\n",
       "  '19',\n",
       "  '33',\n",
       "  '32'],\n",
       " 'GroupName': [b'\\xd8\\xb4\\xd8\\xa7\\xd8\\xae\\xd8\\xb5 \\xd8\\xb5\\xd9\\x86\\xd8\\xb9\\xd8\\xaa',\n",
       "  b'34-\\xd8\\xae\\xd9\\x88\\xd8\\xaf\\xd8\\xb1\\xd9\\x88',\n",
       "  b'44-\\xd8\\xb4\\xd9\\x8a\\xd9\\x85\\xd9\\x8a\\xd8\\xa7\\xd9\\x8a\\xd9\\x8a',\n",
       "  b'57-\\xd8\\xa8\\xd8\\xa7\\xd9\\x86\\xd9\\x83\\xd9\\x87\\xd8\\xa7',\n",
       "  b'43-\\xd9\\x85\\xd9\\x88\\xd8\\xa7\\xd8\\xaf \\xd8\\xaf\\xd8\\xa7\\xd8\\xb1\\xd9\\x88\\xd9\\x8a\\xd9\\x8a',\n",
       "  b'27-\\xd9\\x81\\xd9\\x84\\xd8\\xb2\\xd8\\xa7\\xd8\\xaa \\xd8\\xa7\\xd8\\xb3\\xd8\\xa7\\xd8\\xb3\\xd9\\x8a',\n",
       "  b'56-\\xd8\\xb3\\xd8\\xb1\\xd9\\x85\\xd8\\xa7\\xd9\\x8a\\xd9\\x87 \\xda\\xaf\\xd8\\xb0\\xd8\\xa7\\xd8\\xb1\\xd9\\x8a\\xd9\\x87\\xd8\\xa7',\n",
       "  b'13-\\xd9\\x83\\xd8\\xa7\\xd9\\x86\\xd9\\x87 \\xd9\\x81\\xd9\\x84\\xd8\\xb2\\xd9\\x8a',\n",
       "  b'53-\\xd8\\xb3\\xd9\\x8a\\xd9\\x85\\xd8\\xa7\\xd9\\x86',\n",
       "  b'72-\\xd8\\xb1\\xd8\\xa7\\xd9\\x8a\\xd8\\xa7\\xd9\\x86\\xd9\\x87',\n",
       "  b'60-\\xd8\\xad\\xd9\\x85\\xd9\\x84 \\xd9\\x88 \\xd9\\x86\\xd9\\x82\\xd9\\x84',\n",
       "  b'23-\\xd9\\x81\\xd8\\xb1\\xd8\\xa7\\xd9\\x88\\xd8\\xb1\\xd8\\xaf\\xd9\\x87 \\xd9\\x86\\xd9\\x81\\xd8\\xaa\\xd9\\x8a',\n",
       "  b'74-\\xd9\\x81\\xd9\\x86\\xd9\\x8a \\xd9\\x85\\xd9\\x87\\xd9\\x86\\xd8\\xaf\\xd8\\xb3\\xd9\\x8a',\n",
       "  b'42-\\xd8\\xba\\xd8\\xb0\\xd8\\xa7\\xd9\\x8a\\xd9\\x8a \\xd8\\xa8\\xd8\\xac\\xd8\\xb2 \\xd9\\x82\\xd9\\x86\\xd8\\xaf',\n",
       "  b'70-\\xd8\\xa7\\xd9\\x86\\xd8\\xa8\\xd9\\x88\\xd9\\x87 \\xd8\\xb3\\xd8\\xa7\\xd8\\xb2\\xd9\\x8a',\n",
       "  b'31-\\xd8\\xaf\\xd8\\xb3\\xd8\\xaa\\xda\\xaf\\xd8\\xa7\\xd9\\x87\\xd9\\x87\\xd8\\xa7\\xd9\\x8a \\xd8\\xa8\\xd8\\xb1\\xd9\\x82\\xd9\\x8a',\n",
       "  b'54-\\xd9\\x83\\xd8\\xa7\\xd9\\x86\\xd9\\x8a \\xd8\\xba\\xd9\\x8a\\xd8\\xb1\\xd9\\x81\\xd9\\x84\\xd8\\xb2\\xd9\\x8a',\n",
       "  b'73-\\xd8\\xa7\\xd8\\xb7\\xd9\\x84\\xd8\\xa7\\xd8\\xb9\\xd8\\xa7\\xd8\\xaa \\xd9\\x88 \\xd8\\xa7\\xd8\\xb1\\xd8\\xaa\\xd8\\xa8\\xd8\\xa7\\xd8\\xb7\\xd8\\xa7\\xd8\\xaa',\n",
       "  b'38-\\xd9\\x82\\xd9\\x86\\xd8\\xaf \\xd9\\x88 \\xd8\\xb4\\xd9\\x83\\xd8\\xb1',\n",
       "  b'58-\\xd8\\xb3\\xd8\\xa7\\xd9\\x8a\\xd8\\xb1\\xd9\\x85\\xd8\\xa7\\xd9\\x84\\xd9\\x8a',\n",
       "  b'28-\\xd9\\x85\\xd8\\xad\\xd8\\xb5\\xd9\\x88\\xd9\\x84\\xd8\\xa7\\xd8\\xaa \\xd9\\x81\\xd9\\x84\\xd8\\xb2\\xd9\\x8a',\n",
       "  b'29-\\xd9\\x85\\xd8\\xa7\\xd8\\xb4\\xd9\\x8a\\xd9\\x86 \\xd8\\xa2\\xd9\\x84\\xd8\\xa7\\xd8\\xaa',\n",
       "  b'39-\\xda\\x86\\xd9\\x86\\xd8\\xaf \\xd8\\xb1\\xd8\\xb4\\xd8\\xaa\\xd9\\x87 \\xd8\\xa7\\xd9\\x8a \\xd8\\xb5',\n",
       "  b'25-\\xd9\\x84\\xd8\\xa7\\xd8\\xb3\\xd8\\xaa\\xd9\\x8a\\xd9\\x83',\n",
       "  b'01-\\xd8\\xb2\\xd8\\xb1\\xd8\\xa7\\xd8\\xb9\\xd8\\xaa',\n",
       "  b'\\xd8\\xa8\\xd9\\x8a\\xd9\\x85\\xd9\\x87 \\xd9\\x88 \\xd8\\xa8\\xd8\\xa7\\xd8\\xb2\\xd9\\x86\\xd8\\xb4\\xd8\\xb3\\xd8\\xaa\\xd9\\x8766',\n",
       "  b'67-\\xd8\\xa7\\xd8\\xaf\\xd8\\xa7\\xd8\\xb1\\xd9\\x87 \\xd8\\xa8\\xd8\\xa7\\xd8\\xb2\\xd8\\xa7\\xd8\\xb1\\xd9\\x87\\xd8\\xa7\\xd9\\x8a \\xd9\\x85\\xd8\\xa7\\xd9\\x84\\xd9\\x8a',\n",
       "  b'49-\\xda\\xa9\\xd8\\xa7\\xd8\\xb4\\xd9\\x8a \\xd9\\x88 \\xd8\\xb3\\xd8\\xb1\\xd8\\xa7\\xd9\\x85\\xd9\\x8a\\xd9\\x83',\n",
       "  b'47\\xd8\\xae\\xd8\\xb1\\xd8\\xaf\\xd9\\x87 \\xd9\\x81\\xd8\\xb1\\xd9\\x88\\xd8\\xb4\\xd9\\x8a \\xd8\\xa8\\xd9\\x87 \\xd8\\xac\\xd8\\xb2 \\xd9\\x88\\xd8\\xb3\\xd8\\xa7\\xd9\\x8a\\xd9\\x84 \\xd9\\x86\\xd9\\x82\\xd9\\x84\\xd9\\x8a\\xd9\\x87',\n",
       "  b'64-\\xd8\\xb1\\xd8\\xa7\\xd8\\xaf\\xd9\\x8a\\xd9\\x88\\xd9\\x8a\\xd9\\x8a',\n",
       "  b'40-\\xd8\\xaa\\xd8\\xa7\\xd9\\x85\\xd9\\x8a\\xd9\\x86 \\xd8\\xa2\\xd8\\xa8\\xd8\\x8c \\xd8\\xa8\\xd8\\xb1\\xd9\\x82\\xd8\\x8c \\xda\\xaf\\xd8\\xa7\\xd8\\xb2',\n",
       "  b'\\xd8\\xa7\\xd8\\xb3\\xd8\\xaa\\xd8\\xae\\xd8\\xb1\\xd8\\xa7\\xd8\\xac\\xd9\\x86\\xd9\\x81\\xd8\\xaa\\xd8\\xac\\xd8\\xb2\\xd9\\x83\\xd8\\xb4\\xd9\\x8111',\n",
       "  b'21-\\xd9\\x85\\xd8\\xad\\xd8\\xb5\\xd9\\x88\\xd9\\x84\\xd8\\xa7\\xd8\\xaa \\xd9\\x83\\xd8\\xa7\\xd8\\xba\\xd8\\xb0',\n",
       "  b'22-\\xd8\\xa7\\xd9\\x86\\xd8\\xaa\\xd8\\xb4\\xd8\\xa7\\xd8\\xb1 \\xd9\\x88 \\xda\\x86\\xd8\\xa7\\xd9\\xbe',\n",
       "  b'14-\\xd8\\xb3\\xd8\\xa7\\xd9\\x8a\\xd8\\xb1 \\xd9\\x85\\xd8\\xb9\\xd8\\xa7\\xd8\\xaf\\xd9\\x86',\n",
       "  b'10-\\xd8\\xb0\\xd8\\xba\\xd8\\xa7\\xd9\\x84 \\xd8\\xb3\\xd9\\x86\\xda\\xaf',\n",
       "  b'17-\\xd9\\x85\\xd9\\x86\\xd8\\xb3\\xd9\\x88\\xd8\\xac\\xd8\\xa7\\xd8\\xaa',\n",
       "  b'20-\\xd9\\x85\\xd8\\xad\\xd8\\xb5\\xd9\\x88\\xd9\\x84\\xd8\\xa7\\xd8\\xaa \\xda\\x86\\xd9\\x88\\xd8\\xa8\\xd9\\x8a',\n",
       "  b'19-\\xd9\\x85\\xd8\\xad\\xd8\\xb5\\xd9\\x88\\xd9\\x84\\xd8\\xa7\\xd8\\xaa \\xda\\x86\\xd8\\xb1\\xd9\\x85\\xd9\\x8a',\n",
       "  b'33-\\xd8\\xa7\\xd8\\xa8\\xd8\\xb2\\xd8\\xa7\\xd8\\xb1 \\xd9\\xbe\\xd8\\xb2\\xd8\\xb4\\xd9\\x83\\xd9\\x8a',\n",
       "  b'32-\\xd9\\x88\\xd8\\xb3\\xd8\\xa7\\xd9\\x8a\\xd9\\x84 \\xd8\\xa7\\xd8\\xb1\\xd8\\xaa\\xd8\\xa8\\xd8\\xa7\\xd8\\xb7\\xd9\\x8a'],\n",
       " 'MarketValue': [7791563766.0,\n",
       "  283194664.0,\n",
       "  1897530485.0,\n",
       "  651449025.0,\n",
       "  340237076.0,\n",
       "  1397272575.0,\n",
       "  154988281.0,\n",
       "  822680701.0,\n",
       "  140875923.0,\n",
       "  241291710.0,\n",
       "  104310046.0,\n",
       "  798453574.0,\n",
       "  169758600.0,\n",
       "  102677892.0,\n",
       "  45688747.0,\n",
       "  60539443.0,\n",
       "  40661754.0,\n",
       "  26984000.0,\n",
       "  40985070.0,\n",
       "  22929900.0,\n",
       "  31169773.0,\n",
       "  59594674.0,\n",
       "  439763750.0,\n",
       "  34350665.0,\n",
       "  8346137.000000001,\n",
       "  38552550.0,\n",
       "  79129580.0,\n",
       "  12568494.0,\n",
       "  44483000.0,\n",
       "  335839200.0,\n",
       "  235406192.0,\n",
       "  20395110.0,\n",
       "  6806384.0,\n",
       "  7515090.0,\n",
       "  1282392.0,\n",
       "  2099935.0,\n",
       "  2602003.0,\n",
       "  3752534.0,\n",
       "  4682775.0,\n",
       "  9313400.0,\n",
       "  3223500.0],\n",
       " 'TransactionsCount': [211661.0,\n",
       "  31946.0,\n",
       "  23884.0,\n",
       "  35764.0,\n",
       "  16158.0,\n",
       "  15622.0,\n",
       "  20129.0,\n",
       "  20362.0,\n",
       "  11842.0,\n",
       "  9535.0,\n",
       "  6404.0,\n",
       "  7791.0,\n",
       "  3840.0,\n",
       "  5130.0,\n",
       "  8493.0,\n",
       "  5217.0,\n",
       "  6964.0,\n",
       "  3562.0,\n",
       "  4807.0,\n",
       "  7498.0,\n",
       "  5535.0,\n",
       "  3936.0,\n",
       "  3303.0,\n",
       "  3183.0,\n",
       "  1692.0,\n",
       "  3823.0,\n",
       "  4913.0,\n",
       "  1805.0,\n",
       "  1710.0,\n",
       "  2029.0,\n",
       "  1045.0,\n",
       "  1584.0,\n",
       "  1102.0,\n",
       "  644.0,\n",
       "  825.0,\n",
       "  780.0,\n",
       "  206.0,\n",
       "  16.0,\n",
       "  4.0,\n",
       "  0.0,\n",
       "  0.0],\n",
       " 'TransactionsVol': [2099.0,\n",
       "  '641.540 ',\n",
       "  '208.416 ',\n",
       "  1022.0,\n",
       "  '108.873 ',\n",
       "  '128.508 ',\n",
       "  '318.608 ',\n",
       "  '146.834 ',\n",
       "  '120.719 ',\n",
       "  '83.361 ',\n",
       "  '93.155 ',\n",
       "  '34.161 ',\n",
       "  '43.085 ',\n",
       "  '45.921 ',\n",
       "  '109.987 ',\n",
       "  '24.393 ',\n",
       "  '33.161 ',\n",
       "  '29.672 ',\n",
       "  '16.748 ',\n",
       "  '101.845 ',\n",
       "  '68.817 ',\n",
       "  '18.556 ',\n",
       "  '48.346 ',\n",
       "  '19.165 ',\n",
       "  '8.058 ',\n",
       "  '49.079 ',\n",
       "  '27.325 ',\n",
       "  '12.808 ',\n",
       "  '1.623 ',\n",
       "  '26.050 ',\n",
       "  '5.259 ',\n",
       "  '13.912 ',\n",
       "  '3.140 ',\n",
       "  '2.624 ',\n",
       "  '2.453 ',\n",
       "  '1.279 ',\n",
       "  213636.0,\n",
       "  581051.0,\n",
       "  25509.0,\n",
       "  0.0,\n",
       "  0.0],\n",
       " 'TransactionsValue': [9250453.0,\n",
       "  1439950.0,\n",
       "  1095539.0,\n",
       "  1007723.0,\n",
       "  859619.0,\n",
       "  729731.0,\n",
       "  619504.0,\n",
       "  595758.0,\n",
       "  506211.0,\n",
       "  442010.0,\n",
       "  441966.0,\n",
       "  391744.0,\n",
       "  274000.0,\n",
       "  263106.0,\n",
       "  232671.0,\n",
       "  226788.0,\n",
       "  226147.0,\n",
       "  200158.0,\n",
       "  199901.0,\n",
       "  166177.0,\n",
       "  152193.0,\n",
       "  134427.0,\n",
       "  128006.0,\n",
       "  127805.0,\n",
       "  123822.0,\n",
       "  117827.0,\n",
       "  109206.0,\n",
       "  78053.0,\n",
       "  72195.0,\n",
       "  62446.0,\n",
       "  59492.0,\n",
       "  54447.0,\n",
       "  52927.0,\n",
       "  19923.0,\n",
       "  19420.0,\n",
       "  14513.0,\n",
       "  3415.0,\n",
       "  1619.0,\n",
       "  '500.589 ',\n",
       "  0.0,\n",
       "  0.0]}"
      ]
     },
     "execution_count": 26,
     "metadata": {},
     "output_type": "execute_result"
    }
   ],
   "source": [
    "data"
   ]
  },
  {
   "cell_type": "code",
   "execution_count": 27,
   "metadata": {},
   "outputs": [
    {
     "data": {
      "text/html": [
       "<div>\n",
       "<style scoped>\n",
       "    .dataframe tbody tr th:only-of-type {\n",
       "        vertical-align: middle;\n",
       "    }\n",
       "\n",
       "    .dataframe tbody tr th {\n",
       "        vertical-align: top;\n",
       "    }\n",
       "\n",
       "    .dataframe thead th {\n",
       "        text-align: right;\n",
       "    }\n",
       "</style>\n",
       "<table border=\"1\" class=\"dataframe\">\n",
       "  <thead>\n",
       "    <tr style=\"text-align: right;\">\n",
       "      <th></th>\n",
       "      <th>CDate</th>\n",
       "      <th>JDate</th>\n",
       "      <th>GroupNo</th>\n",
       "      <th>GroupName</th>\n",
       "      <th>MarketValue</th>\n",
       "      <th>TransactionsCount</th>\n",
       "      <th>TransactionsVol</th>\n",
       "      <th>TransactionsValue</th>\n",
       "    </tr>\n",
       "  </thead>\n",
       "  <tbody>\n",
       "    <tr>\n",
       "      <th>0</th>\n",
       "      <td>2019-06-09</td>\n",
       "      <td>1398-03-19</td>\n",
       "      <td>0</td>\n",
       "      <td>b'\\xd8\\xb4\\xd8\\xa7\\xd8\\xae\\xd8\\xb5 \\xd8\\xb5\\xd...</td>\n",
       "      <td>7.791564e+09</td>\n",
       "      <td>211661.0</td>\n",
       "      <td>2099</td>\n",
       "      <td>9.25045e+06</td>\n",
       "    </tr>\n",
       "    <tr>\n",
       "      <th>1</th>\n",
       "      <td>2019-06-09</td>\n",
       "      <td>1398-03-19</td>\n",
       "      <td>34</td>\n",
       "      <td>b'34-\\xd8\\xae\\xd9\\x88\\xd8\\xaf\\xd8\\xb1\\xd9\\x88'</td>\n",
       "      <td>2.831947e+08</td>\n",
       "      <td>31946.0</td>\n",
       "      <td>641.540</td>\n",
       "      <td>1.43995e+06</td>\n",
       "    </tr>\n",
       "    <tr>\n",
       "      <th>2</th>\n",
       "      <td>2019-06-09</td>\n",
       "      <td>1398-03-19</td>\n",
       "      <td>44</td>\n",
       "      <td>b'44-\\xd8\\xb4\\xd9\\x8a\\xd9\\x85\\xd9\\x8a\\xd8\\xa7\\...</td>\n",
       "      <td>1.897530e+09</td>\n",
       "      <td>23884.0</td>\n",
       "      <td>208.416</td>\n",
       "      <td>1.09554e+06</td>\n",
       "    </tr>\n",
       "    <tr>\n",
       "      <th>3</th>\n",
       "      <td>2019-06-09</td>\n",
       "      <td>1398-03-19</td>\n",
       "      <td>57</td>\n",
       "      <td>b'57-\\xd8\\xa8\\xd8\\xa7\\xd9\\x86\\xd9\\x83\\xd9\\x87\\...</td>\n",
       "      <td>6.514490e+08</td>\n",
       "      <td>35764.0</td>\n",
       "      <td>1022</td>\n",
       "      <td>1.00772e+06</td>\n",
       "    </tr>\n",
       "    <tr>\n",
       "      <th>4</th>\n",
       "      <td>2019-06-09</td>\n",
       "      <td>1398-03-19</td>\n",
       "      <td>43</td>\n",
       "      <td>b'43-\\xd9\\x85\\xd9\\x88\\xd8\\xa7\\xd8\\xaf \\xd8\\xaf...</td>\n",
       "      <td>3.402371e+08</td>\n",
       "      <td>16158.0</td>\n",
       "      <td>108.873</td>\n",
       "      <td>859619</td>\n",
       "    </tr>\n",
       "  </tbody>\n",
       "</table>\n",
       "</div>"
      ],
      "text/plain": [
       "        CDate       JDate GroupNo  \\\n",
       "0  2019-06-09  1398-03-19       0   \n",
       "1  2019-06-09  1398-03-19      34   \n",
       "2  2019-06-09  1398-03-19      44   \n",
       "3  2019-06-09  1398-03-19      57   \n",
       "4  2019-06-09  1398-03-19      43   \n",
       "\n",
       "                                           GroupName   MarketValue  \\\n",
       "0  b'\\xd8\\xb4\\xd8\\xa7\\xd8\\xae\\xd8\\xb5 \\xd8\\xb5\\xd...  7.791564e+09   \n",
       "1     b'34-\\xd8\\xae\\xd9\\x88\\xd8\\xaf\\xd8\\xb1\\xd9\\x88'  2.831947e+08   \n",
       "2  b'44-\\xd8\\xb4\\xd9\\x8a\\xd9\\x85\\xd9\\x8a\\xd8\\xa7\\...  1.897530e+09   \n",
       "3  b'57-\\xd8\\xa8\\xd8\\xa7\\xd9\\x86\\xd9\\x83\\xd9\\x87\\...  6.514490e+08   \n",
       "4  b'43-\\xd9\\x85\\xd9\\x88\\xd8\\xa7\\xd8\\xaf \\xd8\\xaf...  3.402371e+08   \n",
       "\n",
       "   TransactionsCount TransactionsVol TransactionsValue  \n",
       "0           211661.0            2099       9.25045e+06  \n",
       "1            31946.0        641.540        1.43995e+06  \n",
       "2            23884.0        208.416        1.09554e+06  \n",
       "3            35764.0            1022       1.00772e+06  \n",
       "4            16158.0        108.873             859619  "
      ]
     },
     "execution_count": 27,
     "metadata": {},
     "output_type": "execute_result"
    }
   ],
   "source": [
    "# create new DataFrame with recently fetched data\n",
    "df = pd.DataFrame(data=data)\n",
    "df.head()"
   ]
  },
  {
   "cell_type": "code",
   "execution_count": 28,
   "metadata": {},
   "outputs": [
    {
     "data": {
      "text/html": [
       "<div>\n",
       "<style scoped>\n",
       "    .dataframe tbody tr th:only-of-type {\n",
       "        vertical-align: middle;\n",
       "    }\n",
       "\n",
       "    .dataframe tbody tr th {\n",
       "        vertical-align: top;\n",
       "    }\n",
       "\n",
       "    .dataframe thead th {\n",
       "        text-align: right;\n",
       "    }\n",
       "</style>\n",
       "<table border=\"1\" class=\"dataframe\">\n",
       "  <thead>\n",
       "    <tr style=\"text-align: right;\">\n",
       "      <th></th>\n",
       "      <th>CDate</th>\n",
       "      <th>JDate</th>\n",
       "      <th>GroupNo</th>\n",
       "      <th>GroupName</th>\n",
       "      <th>MarketValue</th>\n",
       "      <th>TransactionsCount</th>\n",
       "      <th>TransactionsVol</th>\n",
       "      <th>TransactionsValue</th>\n",
       "    </tr>\n",
       "  </thead>\n",
       "  <tbody>\n",
       "    <tr>\n",
       "      <th>0</th>\n",
       "      <td>2019-06-03</td>\n",
       "      <td>1398-03-13</td>\n",
       "      <td>0</td>\n",
       "      <td>شاخص صنعت</td>\n",
       "      <td>7650169488</td>\n",
       "      <td>236046</td>\n",
       "      <td>2740.000</td>\n",
       "      <td>10212891.0</td>\n",
       "    </tr>\n",
       "    <tr>\n",
       "      <th>1</th>\n",
       "      <td>2019-06-03</td>\n",
       "      <td>1398-03-13</td>\n",
       "      <td>34</td>\n",
       "      <td>34-خودرو</td>\n",
       "      <td>269025262</td>\n",
       "      <td>62425</td>\n",
       "      <td>1399.000</td>\n",
       "      <td>2610194.0</td>\n",
       "    </tr>\n",
       "    <tr>\n",
       "      <th>2</th>\n",
       "      <td>2019-06-03</td>\n",
       "      <td>1398-03-13</td>\n",
       "      <td>57</td>\n",
       "      <td>57-بانكها</td>\n",
       "      <td>644373421</td>\n",
       "      <td>50274</td>\n",
       "      <td>1447.000</td>\n",
       "      <td>1194232.0</td>\n",
       "    </tr>\n",
       "    <tr>\n",
       "      <th>3</th>\n",
       "      <td>2019-06-03</td>\n",
       "      <td>1398-03-13</td>\n",
       "      <td>44</td>\n",
       "      <td>44-شيميايي</td>\n",
       "      <td>1900527339</td>\n",
       "      <td>20390</td>\n",
       "      <td>172.604</td>\n",
       "      <td>989110.0</td>\n",
       "    </tr>\n",
       "    <tr>\n",
       "      <th>4</th>\n",
       "      <td>2019-06-03</td>\n",
       "      <td>1398-03-13</td>\n",
       "      <td>27</td>\n",
       "      <td>27-فلزات اساسي</td>\n",
       "      <td>1389537365</td>\n",
       "      <td>15898</td>\n",
       "      <td>112.454</td>\n",
       "      <td>729291.0</td>\n",
       "    </tr>\n",
       "  </tbody>\n",
       "</table>\n",
       "</div>"
      ],
      "text/plain": [
       "        CDate       JDate  GroupNo       GroupName  MarketValue  \\\n",
       "0  2019-06-03  1398-03-13        0       شاخص صنعت   7650169488   \n",
       "1  2019-06-03  1398-03-13       34        34-خودرو    269025262   \n",
       "2  2019-06-03  1398-03-13       57       57-بانكها    644373421   \n",
       "3  2019-06-03  1398-03-13       44      44-شيميايي   1900527339   \n",
       "4  2019-06-03  1398-03-13       27  27-فلزات اساسي   1389537365   \n",
       "\n",
       "   TransactionsCount  TransactionsVol  TransactionsValue  \n",
       "0             236046         2740.000         10212891.0  \n",
       "1              62425         1399.000          2610194.0  \n",
       "2              50274         1447.000          1194232.0  \n",
       "3              20390          172.604           989110.0  \n",
       "4              15898          112.454           729291.0  "
      ]
     },
     "execution_count": 28,
     "metadata": {},
     "output_type": "execute_result"
    }
   ],
   "source": [
    "# read the original excel file\n",
    "df_main = pd.read_excel(file_path)\n",
    "df_main.head()"
   ]
  },
  {
   "cell_type": "code",
   "execution_count": 29,
   "metadata": {},
   "outputs": [
    {
     "data": {
      "text/html": [
       "<div>\n",
       "<style scoped>\n",
       "    .dataframe tbody tr th:only-of-type {\n",
       "        vertical-align: middle;\n",
       "    }\n",
       "\n",
       "    .dataframe tbody tr th {\n",
       "        vertical-align: top;\n",
       "    }\n",
       "\n",
       "    .dataframe thead th {\n",
       "        text-align: right;\n",
       "    }\n",
       "</style>\n",
       "<table border=\"1\" class=\"dataframe\">\n",
       "  <thead>\n",
       "    <tr style=\"text-align: right;\">\n",
       "      <th></th>\n",
       "      <th>CDate</th>\n",
       "      <th>JDate</th>\n",
       "      <th>GroupNo</th>\n",
       "      <th>GroupName</th>\n",
       "      <th>MarketValue</th>\n",
       "      <th>TransactionsCount</th>\n",
       "      <th>TransactionsVol</th>\n",
       "      <th>TransactionsValue</th>\n",
       "    </tr>\n",
       "  </thead>\n",
       "  <tbody>\n",
       "    <tr>\n",
       "      <th>0</th>\n",
       "      <td>2019-06-03</td>\n",
       "      <td>1398-03-13</td>\n",
       "      <td>0</td>\n",
       "      <td>شاخص صنعت</td>\n",
       "      <td>7.650169e+09</td>\n",
       "      <td>236046.0</td>\n",
       "      <td>2740</td>\n",
       "      <td>1.02129e+07</td>\n",
       "    </tr>\n",
       "    <tr>\n",
       "      <th>1</th>\n",
       "      <td>2019-06-03</td>\n",
       "      <td>1398-03-13</td>\n",
       "      <td>34</td>\n",
       "      <td>34-خودرو</td>\n",
       "      <td>2.690253e+08</td>\n",
       "      <td>62425.0</td>\n",
       "      <td>1399</td>\n",
       "      <td>2.61019e+06</td>\n",
       "    </tr>\n",
       "    <tr>\n",
       "      <th>2</th>\n",
       "      <td>2019-06-03</td>\n",
       "      <td>1398-03-13</td>\n",
       "      <td>57</td>\n",
       "      <td>57-بانكها</td>\n",
       "      <td>6.443734e+08</td>\n",
       "      <td>50274.0</td>\n",
       "      <td>1447</td>\n",
       "      <td>1.19423e+06</td>\n",
       "    </tr>\n",
       "    <tr>\n",
       "      <th>3</th>\n",
       "      <td>2019-06-03</td>\n",
       "      <td>1398-03-13</td>\n",
       "      <td>44</td>\n",
       "      <td>44-شيميايي</td>\n",
       "      <td>1.900527e+09</td>\n",
       "      <td>20390.0</td>\n",
       "      <td>172.604</td>\n",
       "      <td>989110</td>\n",
       "    </tr>\n",
       "    <tr>\n",
       "      <th>4</th>\n",
       "      <td>2019-06-03</td>\n",
       "      <td>1398-03-13</td>\n",
       "      <td>27</td>\n",
       "      <td>27-فلزات اساسي</td>\n",
       "      <td>1.389537e+09</td>\n",
       "      <td>15898.0</td>\n",
       "      <td>112.454</td>\n",
       "      <td>729291</td>\n",
       "    </tr>\n",
       "  </tbody>\n",
       "</table>\n",
       "</div>"
      ],
      "text/plain": [
       "        CDate       JDate GroupNo       GroupName   MarketValue  \\\n",
       "0  2019-06-03  1398-03-13       0       شاخص صنعت  7.650169e+09   \n",
       "1  2019-06-03  1398-03-13      34        34-خودرو  2.690253e+08   \n",
       "2  2019-06-03  1398-03-13      57       57-بانكها  6.443734e+08   \n",
       "3  2019-06-03  1398-03-13      44      44-شيميايي  1.900527e+09   \n",
       "4  2019-06-03  1398-03-13      27  27-فلزات اساسي  1.389537e+09   \n",
       "\n",
       "   TransactionsCount TransactionsVol TransactionsValue  \n",
       "0           236046.0            2740       1.02129e+07  \n",
       "1            62425.0            1399       2.61019e+06  \n",
       "2            50274.0            1447       1.19423e+06  \n",
       "3            20390.0         172.604            989110  \n",
       "4            15898.0         112.454            729291  "
      ]
     },
     "execution_count": 29,
     "metadata": {},
     "output_type": "execute_result"
    }
   ],
   "source": [
    "# combine recently created DataFrame and the original one\n",
    "df1 = pd.concat([df_main, df], ignore_index=True, sort=False)\n",
    "df1.head()"
   ]
  },
  {
   "cell_type": "code",
   "execution_count": 30,
   "metadata": {},
   "outputs": [],
   "source": [
    "# Save the output to excel file\n",
    "df1.to_excel(excel_writer=file_path, index=False)"
   ]
  },
  {
   "cell_type": "code",
   "execution_count": null,
   "metadata": {},
   "outputs": [],
   "source": []
  },
  {
   "cell_type": "code",
   "execution_count": null,
   "metadata": {},
   "outputs": [],
   "source": []
  },
  {
   "cell_type": "code",
   "execution_count": null,
   "metadata": {},
   "outputs": [],
   "source": []
  },
  {
   "cell_type": "code",
   "execution_count": null,
   "metadata": {},
   "outputs": [],
   "source": []
  },
  {
   "cell_type": "code",
   "execution_count": null,
   "metadata": {},
   "outputs": [],
   "source": []
  }
 ],
 "metadata": {
  "kernelspec": {
   "display_name": "Python 3",
   "language": "python",
   "name": "python3"
  },
  "language_info": {
   "codemirror_mode": {
    "name": "ipython",
    "version": 3
   },
   "file_extension": ".py",
   "mimetype": "text/x-python",
   "name": "python",
   "nbconvert_exporter": "python",
   "pygments_lexer": "ipython3",
   "version": "3.7.1"
  }
 },
 "nbformat": 4,
 "nbformat_minor": 2
}
