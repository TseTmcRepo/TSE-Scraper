{
 "cells": [
  {
   "cell_type": "code",
   "execution_count": 1,
   "metadata": {},
   "outputs": [],
   "source": [
    "# import libraries\n",
    "import requests\n",
    "from bs4 import BeautifulSoup\n",
    "import pandas as pd\n",
    "from textwrap import wrap\n",
    "import re\n",
    "import jdatetime"
   ]
  },
  {
   "cell_type": "code",
   "execution_count": 2,
   "metadata": {},
   "outputs": [],
   "source": [
    "# URLs\n",
    "file_path = './data/Industry-Indices.xlsx'\n",
    "tse_main_url = 'http://www.tsetmc.com/Loader.aspx?ParTree=15'\n",
    "industries_operation_url = 'http://www.tsetmc.com/Loader.aspx?Partree=15131O'"
   ]
  },
  {
   "cell_type": "markdown",
   "metadata": {},
   "source": [
    "## Fetching data"
   ]
  },
  {
   "cell_type": "code",
   "execution_count": 3,
   "metadata": {},
   "outputs": [
    {
     "data": {
      "text/plain": [
       "'<!doctype html><html><head><title>.:TSETMC:. :: شرکت مدیریت فناوری بورس تهران</title><script>var LongRunnigPagesSite=\\'http://cdn2.tsetmc.com\\';function ens(ty,sv){var lv=localStorage.getItem(\"v_\"+ty);var t;if (1==1 || lv!=sv){var oX=new XMLHttpRequest();oX.open(\\'GET\\', \\'tsev2/res/loader.aspx?t=\\'+ty+\\'&'"
      ]
     },
     "execution_count": 3,
     "metadata": {},
     "output_type": "execute_result"
    }
   ],
   "source": [
    "res = requests.get(url=tse_main_url)\n",
    "res.text[:300]"
   ]
  },
  {
   "cell_type": "code",
   "execution_count": 4,
   "metadata": {},
   "outputs": [],
   "source": [
    "def get_and_parse_url(url, params=None):\n",
    "    \"\"\"\n",
    "        get a URL, grab the data, and return a BeautifulSoup object with parsed data\n",
    "    \"\"\"\n",
    "    res = requests.get(url=url, params=params)\n",
    "    soup = BeautifulSoup(markup=res.text, features='html.parser')\n",
    "    return soup"
   ]
  },
  {
   "cell_type": "code",
   "execution_count": 5,
   "metadata": {},
   "outputs": [
    {
     "name": "stdout",
     "output_type": "stream",
     "text": [
      "<!DOCTYPE doctype html>\n",
      "<html>\n",
      " <head>\n",
      "  <title>\n",
      "   .:TSETMC:. :: برترین گروه های صنعت\n",
      "  </title>\n",
      "  <script>\n",
      "   var LongRunnigPagesSite='http://cdn2.tsetmc.com';function ens(ty,sv){var lv=localStorage.getItem(\"v_\"+ty);var t;if (1==1 || lv!=sv){var oX=new XMLHttpRequest();oX.open('GET', 'tsev2/res/loader.aspx?t='+ty+'&_'+sv,false);oX.send(null);t=oX.responseText;if(t[t.length-1]!=';') return;localStorage.setItem(\"v_\"+ty,sv);localStorage.setItem(\"t_\"+ty,t)}else{t=localStorage.getItem(\"t_\"+ty)}if (\n"
     ]
    }
   ],
   "source": [
    "soup = get_and_parse_url(url=industries_operation_url)\n",
    "print(soup.prettify()[:500])"
   ]
  },
  {
   "cell_type": "code",
   "execution_count": 6,
   "metadata": {},
   "outputs": [
    {
     "name": "stdout",
     "output_type": "stream",
     "text": [
      "<!DOCTYPE doctype html>\n",
      "<html>\n",
      " <head>\n",
      "  <title>\n",
      "   .:TSETMC:. :: شرکت مدیریت فناوری بورس تهران\n",
      "  </title>\n",
      "  <script>\n",
      "   var LongRunnigPagesSite='http://cdn2.tsetmc.com';function ens(ty,sv){var lv=localStorage.getItem(\"v_\"+ty);var t;if (1==1 || lv!=sv){var oX=new XMLHttpRequest();oX.open('GET', 'tsev2/res/loader.aspx?t='+ty+'&_'+sv,false);oX.send(null);t=oX.responseText;if(t[t.length-1]!=';') return;localStorage.setItem(\"v_\"+ty,sv);localStorage.setItem(\"t_\"+ty,t)}else{t=localStorage.getItem(\"t_\"\n"
     ]
    }
   ],
   "source": [
    "msoup = get_and_parse_url(url=tse_main_url)\n",
    "print(msoup.prettify()[:500])"
   ]
  },
  {
   "cell_type": "markdown",
   "metadata": {},
   "source": [
    "## Find the date (Jalali) and convert it to Gregorian"
   ]
  },
  {
   "cell_type": "code",
   "execution_count": 7,
   "metadata": {},
   "outputs": [
    {
     "data": {
      "text/plain": [
       "2"
      ]
     },
     "execution_count": 7,
     "metadata": {},
     "output_type": "execute_result"
    }
   ],
   "source": [
    "# Market info located in a blue div\n",
    "blue_div = msoup.find_all(name='div', class_='box1 blue tbl z1_4 h210')\n",
    "len(blue_div)"
   ]
  },
  {
   "cell_type": "code",
   "execution_count": 8,
   "metadata": {},
   "outputs": [
    {
     "data": {
      "text/plain": [
       "<div class=\"box1 blue tbl z1_4 h210\">\n",
       "<div class=\"header\">بازار نقدی بورس در یک نگاه</div>\n",
       "<div class=\"content\">\n",
       "<table class=\"table1\">\n",
       "<tbody>\n",
       "<tr>\n",
       "<td>وضعیت بازار</td>\n",
       "<td>بسته <span class=\"RealServerTime\"><!--RealServerTime--></span></td>\n",
       "</tr>\n",
       "<tr>\n",
       "<td>شاخص کل</td>\n",
       "<td>226,983.38 <div class=\"pn\">2439.00</div></td>\n",
       "</tr>\n",
       "<tr>\n",
       "<td>شاخص كل (هم وزن)</td>\n",
       "<td>53,600.18 <div class=\"pn\">1293.19</div></td>\n",
       "</tr>\n",
       "<tr>\n",
       "<td>ارزش بازار</td>\n",
       "<td><div class=\"ltr\" title=\"8,566,835,533,527,786\">8,566,835.534 B</div></td>\n",
       "</tr>\n",
       "<tr>\n",
       "<td>اطلاعات قیمت</td>\n",
       "<td>98/3/13 16:44:51</td>\n",
       "</tr>\n",
       "<tr>\n",
       "<td>تعداد معاملات</td>\n",
       "<td>329,012</td>\n",
       "</tr>\n",
       "<tr>\n",
       "<td>ارزش معاملات</td>\n",
       "<td><div class=\"ltr\" title=\"13,530,147,428,652\">13,530.147 B</div></td>\n",
       "</tr>\n",
       "<tr>\n",
       "<td>حجم معاملات</td>\n",
       "<td><div class=\"ltr\" title=\"4,999,166,899\">4.999 B</div></td>\n",
       "</tr>\n",
       "</tbody>\n",
       "</table>\n",
       "</div>\n",
       "</div>"
      ]
     },
     "execution_count": 8,
     "metadata": {},
     "output_type": "execute_result"
    }
   ],
   "source": [
    "# first blue div is the one that I need\n",
    "blue_div[0]"
   ]
  },
  {
   "cell_type": "code",
   "execution_count": 9,
   "metadata": {},
   "outputs": [
    {
     "data": {
      "text/plain": [
       "'1398/3/13 16:44:51'"
      ]
     },
     "execution_count": 9,
     "metadata": {},
     "output_type": "execute_result"
    }
   ],
   "source": [
    "# Grab the datetime out of the blue div\n",
    "tds = blue_div[0].find_all('td')\n",
    "info_datetime = tds[9].string\n",
    "info_datetime = '13'+ info_datetime\n",
    "info_datetime"
   ]
  },
  {
   "cell_type": "code",
   "execution_count": 10,
   "metadata": {},
   "outputs": [
    {
     "data": {
      "text/plain": [
       "['1398', '03', '13']"
      ]
     },
     "execution_count": 10,
     "metadata": {},
     "output_type": "execute_result"
    }
   ],
   "source": [
    "# throw out the time part and clean the date part\n",
    "info_j_date = info_datetime[:10]\n",
    "info_j_date = info_j_date.strip().split('/')\n",
    "info_j_date[1] = ('0' + info_j_date[1]) if len(info_j_date[1]) < 2 else info_j_date[1]\n",
    "info_j_date[2] = ('0' + info_j_date[2]) if len(info_j_date[2]) < 2 else info_j_date[2]\n",
    "info_j_date"
   ]
  },
  {
   "cell_type": "code",
   "execution_count": 11,
   "metadata": {},
   "outputs": [
    {
     "data": {
      "text/plain": [
       "datetime.date(2019, 6, 3)"
      ]
     },
     "execution_count": 11,
     "metadata": {},
     "output_type": "execute_result"
    }
   ],
   "source": [
    "# convert Jalali date to Gregorian date\n",
    "info_c_date = jdatetime.date(year=int(info_j_date[0]), \n",
    "                             month=int(info_j_date[1]), \n",
    "                             day=int(info_j_date[2])).togregorian()\n",
    "info_c_date"
   ]
  },
  {
   "cell_type": "code",
   "execution_count": 12,
   "metadata": {},
   "outputs": [
    {
     "name": "stdout",
     "output_type": "stream",
     "text": [
      "2019-06-03\n",
      "1398-03-13\n"
     ]
    }
   ],
   "source": [
    "# convert both Jalali and Gregorian date to string\n",
    "info_c_date = info_c_date.strftime('%Y-%m-%d')\n",
    "info_j_date = '{}-{}-{}'.format(info_j_date[0], info_j_date[1], info_j_date[2])\n",
    "print(info_c_date)\n",
    "print(info_j_date)"
   ]
  },
  {
   "cell_type": "markdown",
   "metadata": {},
   "source": [
    "## Searching for required data and preparing them"
   ]
  },
  {
   "cell_type": "code",
   "execution_count": 13,
   "metadata": {},
   "outputs": [
    {
     "data": {
      "text/plain": [
       "41"
      ]
     },
     "execution_count": 13,
     "metadata": {},
     "output_type": "execute_result"
    }
   ],
   "source": [
    "rows = soup.tbody.find_all(name='tr')\n",
    "len(rows)"
   ]
  },
  {
   "cell_type": "code",
   "execution_count": 14,
   "metadata": {},
   "outputs": [
    {
     "name": "stdout",
     "output_type": "stream",
     "text": [
      "[<tr><td>شاخص صنعت</td>\n",
      "<td><div class=\"ltr\" title=\"7,650,169,488,403,786\">7,650,169.488 B</div></td>\n",
      "<td>236,046</td>\n",
      "<td><div class=\"ltr\" title=\"2,739,895,884\">2.740 B</div></td>\n",
      "<td><div class=\"ltr\" title=\"10,212,890,935,746\">10,212.891 B</div></td>\n",
      "</tr>, <tr><td>34-خودرو</td>\n",
      "<td><div class=\"ltr\" title=\"269,025,262,403,296\">269,025.262 B</div></td>\n",
      "<td>62,425</td>\n",
      "<td><div class=\"ltr\" title=\"1,398,654,660\">1.399 B</div></td>\n",
      "<td><div class=\"ltr\" title=\"2,610,194,121,728\">2,610.194 B</div></td>\n",
      "</tr>]\n"
     ]
    }
   ],
   "source": [
    "print(rows[:2])"
   ]
  },
  {
   "cell_type": "code",
   "execution_count": 15,
   "metadata": {},
   "outputs": [],
   "source": [
    "rows = [r.find_all('td') for r in rows]"
   ]
  },
  {
   "cell_type": "code",
   "execution_count": 16,
   "metadata": {},
   "outputs": [
    {
     "data": {
      "text/plain": [
       "[<td>34-خودرو</td>,\n",
       " <td><div class=\"ltr\" title=\"269,025,262,403,296\">269,025.262 B</div></td>,\n",
       " <td>62,425</td>,\n",
       " <td><div class=\"ltr\" title=\"1,398,654,660\">1.399 B</div></td>,\n",
       " <td><div class=\"ltr\" title=\"2,610,194,121,728\">2,610.194 B</div></td>]"
      ]
     },
     "execution_count": 16,
     "metadata": {},
     "output_type": "execute_result"
    }
   ],
   "source": [
    "# col1: Group\n",
    "# col2: Market-Value\n",
    "# col3: Transactions-Number\n",
    "# col4: Transactions-Volume\n",
    "# col5: Transactions-Value\n",
    "rows[1]"
   ]
  },
  {
   "cell_type": "code",
   "execution_count": 17,
   "metadata": {},
   "outputs": [
    {
     "data": {
      "text/plain": [
       "['شاخص صنعت',\n",
       " '7,650,169.488 B',\n",
       " '236,046',\n",
       " '2.740 B',\n",
       " '10,212.891 B',\n",
       " '34-خودرو',\n",
       " '269,025.262 B',\n",
       " '62,425',\n",
       " '1.399 B',\n",
       " '2,610.194 B']"
      ]
     },
     "execution_count": 17,
     "metadata": {},
     "output_type": "execute_result"
    }
   ],
   "source": [
    "# get cells string and save them in a list\n",
    "values = []\n",
    "for row in rows:\n",
    "    for col in row:\n",
    "        values.append(col.string)\n",
    "        \n",
    "values[:10]"
   ]
  },
  {
   "cell_type": "code",
   "execution_count": 18,
   "metadata": {},
   "outputs": [
    {
     "data": {
      "text/plain": [
       "[['شاخص صنعت', '7,650,169.488 B', '236,046', '2.740 B', '10,212.891 B'],\n",
       " ['34-خودرو', '269,025.262 B', '62,425', '1.399 B', '2,610.194 B']]"
      ]
     },
     "execution_count": 18,
     "metadata": {},
     "output_type": "execute_result"
    }
   ],
   "source": [
    "# split the values into sized 5 chunks to represent each row in a list item\n",
    "values = [values[i:i+5] for i in range(0, len(values), 5)]\n",
    "values[:2]"
   ]
  },
  {
   "cell_type": "code",
   "execution_count": 19,
   "metadata": {},
   "outputs": [],
   "source": [
    "# remove the ',', 'B' and 'M' from the recieved string and convert it to a float number\n",
    "def purify_number(number):\n",
    "    number = str(number)\n",
    "    number = number.split(',')\n",
    "    number = ''.join(number)\n",
    "    number = number.strip()\n",
    "\n",
    "    if 'B' in number:\n",
    "        number = number.strip('B')\n",
    "        number = float(number) * 1000\n",
    "    elif 'M' in number:\n",
    "        number = number.strip('M')\n",
    "        #number = float(number) * 1000000\n",
    "    else:\n",
    "        number = float(number)\n",
    "\n",
    "    return number"
   ]
  },
  {
   "cell_type": "code",
   "execution_count": 20,
   "metadata": {},
   "outputs": [
    {
     "data": {
      "text/plain": [
       "141383.0"
      ]
     },
     "execution_count": 20,
     "metadata": {},
     "output_type": "execute_result"
    }
   ],
   "source": [
    "a = purify_number('   141.383 B    ')\n",
    "a"
   ]
  },
  {
   "cell_type": "code",
   "execution_count": 21,
   "metadata": {},
   "outputs": [],
   "source": [
    "# cleaning all the numbers\n",
    "for i in range(len(values)):\n",
    "    for j in range(1, len(values[0])):\n",
    "        values[i][j] = purify_number(values[i][j])"
   ]
  },
  {
   "cell_type": "code",
   "execution_count": 22,
   "metadata": {},
   "outputs": [
    {
     "data": {
      "text/plain": [
       "[['شاخص صنعت', 7650169488.0, 236046.0, 2740.0, 10212891.0],\n",
       " ['34-خودرو', 269025262.0, 62425.0, 1399.0, 2610194.0],\n",
       " ['57-بانكها', 644373421.0, 50274.0, 1447.0, 1194232.0]]"
      ]
     },
     "execution_count": 22,
     "metadata": {},
     "output_type": "execute_result"
    }
   ],
   "source": [
    "# now data is clean and ready to save\n",
    "values[:3]"
   ]
  },
  {
   "cell_type": "markdown",
   "metadata": {},
   "source": [
    "## Saving the clean data into excel file"
   ]
  },
  {
   "cell_type": "code",
   "execution_count": 23,
   "metadata": {},
   "outputs": [
    {
     "data": {
      "text/html": [
       "<div>\n",
       "<style scoped>\n",
       "    .dataframe tbody tr th:only-of-type {\n",
       "        vertical-align: middle;\n",
       "    }\n",
       "\n",
       "    .dataframe tbody tr th {\n",
       "        vertical-align: top;\n",
       "    }\n",
       "\n",
       "    .dataframe thead th {\n",
       "        text-align: right;\n",
       "    }\n",
       "</style>\n",
       "<table border=\"1\" class=\"dataframe\">\n",
       "  <thead>\n",
       "    <tr style=\"text-align: right;\">\n",
       "      <th></th>\n",
       "      <th>CDate</th>\n",
       "      <th>JDate</th>\n",
       "      <th>GroupNo</th>\n",
       "      <th>GroupName</th>\n",
       "      <th>MarketValue</th>\n",
       "      <th>TransactionsCount</th>\n",
       "      <th>TransactionsVol</th>\n",
       "      <th>TransactionsValue</th>\n",
       "    </tr>\n",
       "  </thead>\n",
       "  <tbody>\n",
       "  </tbody>\n",
       "</table>\n",
       "</div>"
      ],
      "text/plain": [
       "Empty DataFrame\n",
       "Columns: [CDate, JDate, GroupNo, GroupName, MarketValue, TransactionsCount, TransactionsVol, TransactionsValue]\n",
       "Index: []"
      ]
     },
     "execution_count": 23,
     "metadata": {},
     "output_type": "execute_result"
    }
   ],
   "source": [
    "# read the original excel file\n",
    "df_main = pd.read_excel(file_path)\n",
    "df_main.head()"
   ]
  },
  {
   "cell_type": "code",
   "execution_count": 24,
   "metadata": {},
   "outputs": [],
   "source": [
    "# find the group number using regex\n",
    "def parse_group_no(text):\n",
    "    if re.search('\\d+', text):\n",
    "        group_no = re.findall('\\d+', text)[0]\n",
    "    else:\n",
    "        group_no = '0'\n",
    "        \n",
    "    return group_no"
   ]
  },
  {
   "cell_type": "code",
   "execution_count": 25,
   "metadata": {},
   "outputs": [],
   "source": [
    "# prepare a dict of values for creating a DataFrame\n",
    "CDate = info_c_date * len(values)\n",
    "CDate = wrap(text=CDate, width=10)\n",
    "JDate = info_j_date * len(values)\n",
    "JDate = wrap(text=JDate, width=10)\n",
    "data = {\n",
    "    'CDate': CDate,\n",
    "    'JDate': JDate,\n",
    "    'GroupNo': [parse_group_no(values[i][0]) for i in range(len(values))],\n",
    "    'GroupName': [(values[i][0]).encode('utf-8') for i in range(len(values))],\n",
    "    'MarketValue': [values[i][1] for i in range(len(values))],\n",
    "    'TransactionsCount': [values[i][2] for i in range(len(values))],\n",
    "    'TransactionsVol': [values[i][3] for i in range(len(values))],\n",
    "    'TransactionsValue': [values[i][4] for i in range(len(values))]\n",
    "}"
   ]
  },
  {
   "cell_type": "code",
   "execution_count": 26,
   "metadata": {},
   "outputs": [
    {
     "data": {
      "text/plain": [
       "{'CDate': ['2019-06-03',\n",
       "  '2019-06-03',\n",
       "  '2019-06-03',\n",
       "  '2019-06-03',\n",
       "  '2019-06-03',\n",
       "  '2019-06-03',\n",
       "  '2019-06-03',\n",
       "  '2019-06-03',\n",
       "  '2019-06-03',\n",
       "  '2019-06-03',\n",
       "  '2019-06-03',\n",
       "  '2019-06-03',\n",
       "  '2019-06-03',\n",
       "  '2019-06-03',\n",
       "  '2019-06-03',\n",
       "  '2019-06-03',\n",
       "  '2019-06-03',\n",
       "  '2019-06-03',\n",
       "  '2019-06-03',\n",
       "  '2019-06-03',\n",
       "  '2019-06-03',\n",
       "  '2019-06-03',\n",
       "  '2019-06-03',\n",
       "  '2019-06-03',\n",
       "  '2019-06-03',\n",
       "  '2019-06-03',\n",
       "  '2019-06-03',\n",
       "  '2019-06-03',\n",
       "  '2019-06-03',\n",
       "  '2019-06-03',\n",
       "  '2019-06-03',\n",
       "  '2019-06-03',\n",
       "  '2019-06-03',\n",
       "  '2019-06-03',\n",
       "  '2019-06-03',\n",
       "  '2019-06-03',\n",
       "  '2019-06-03',\n",
       "  '2019-06-03',\n",
       "  '2019-06-03',\n",
       "  '2019-06-03',\n",
       "  '2019-06-03'],\n",
       " 'JDate': ['1398-03-13',\n",
       "  '1398-03-13',\n",
       "  '1398-03-13',\n",
       "  '1398-03-13',\n",
       "  '1398-03-13',\n",
       "  '1398-03-13',\n",
       "  '1398-03-13',\n",
       "  '1398-03-13',\n",
       "  '1398-03-13',\n",
       "  '1398-03-13',\n",
       "  '1398-03-13',\n",
       "  '1398-03-13',\n",
       "  '1398-03-13',\n",
       "  '1398-03-13',\n",
       "  '1398-03-13',\n",
       "  '1398-03-13',\n",
       "  '1398-03-13',\n",
       "  '1398-03-13',\n",
       "  '1398-03-13',\n",
       "  '1398-03-13',\n",
       "  '1398-03-13',\n",
       "  '1398-03-13',\n",
       "  '1398-03-13',\n",
       "  '1398-03-13',\n",
       "  '1398-03-13',\n",
       "  '1398-03-13',\n",
       "  '1398-03-13',\n",
       "  '1398-03-13',\n",
       "  '1398-03-13',\n",
       "  '1398-03-13',\n",
       "  '1398-03-13',\n",
       "  '1398-03-13',\n",
       "  '1398-03-13',\n",
       "  '1398-03-13',\n",
       "  '1398-03-13',\n",
       "  '1398-03-13',\n",
       "  '1398-03-13',\n",
       "  '1398-03-13',\n",
       "  '1398-03-13',\n",
       "  '1398-03-13',\n",
       "  '1398-03-13'],\n",
       " 'GroupNo': ['0',\n",
       "  '34',\n",
       "  '57',\n",
       "  '44',\n",
       "  '27',\n",
       "  '43',\n",
       "  '53',\n",
       "  '56',\n",
       "  '72',\n",
       "  '40',\n",
       "  '23',\n",
       "  '31',\n",
       "  '54',\n",
       "  '13',\n",
       "  '58',\n",
       "  '42',\n",
       "  '29',\n",
       "  '39',\n",
       "  '70',\n",
       "  '74',\n",
       "  '73',\n",
       "  '25',\n",
       "  '28',\n",
       "  '60',\n",
       "  '38',\n",
       "  '66',\n",
       "  '49',\n",
       "  '67',\n",
       "  '64',\n",
       "  '11',\n",
       "  '21',\n",
       "  '01',\n",
       "  '10',\n",
       "  '47',\n",
       "  '14',\n",
       "  '22',\n",
       "  '32',\n",
       "  '17',\n",
       "  '20',\n",
       "  '19',\n",
       "  '33'],\n",
       " 'GroupName': [b'\\xd8\\xb4\\xd8\\xa7\\xd8\\xae\\xd8\\xb5 \\xd8\\xb5\\xd9\\x86\\xd8\\xb9\\xd8\\xaa',\n",
       "  b'34-\\xd8\\xae\\xd9\\x88\\xd8\\xaf\\xd8\\xb1\\xd9\\x88',\n",
       "  b'57-\\xd8\\xa8\\xd8\\xa7\\xd9\\x86\\xd9\\x83\\xd9\\x87\\xd8\\xa7',\n",
       "  b'44-\\xd8\\xb4\\xd9\\x8a\\xd9\\x85\\xd9\\x8a\\xd8\\xa7\\xd9\\x8a\\xd9\\x8a',\n",
       "  b'27-\\xd9\\x81\\xd9\\x84\\xd8\\xb2\\xd8\\xa7\\xd8\\xaa \\xd8\\xa7\\xd8\\xb3\\xd8\\xa7\\xd8\\xb3\\xd9\\x8a',\n",
       "  b'43-\\xd9\\x85\\xd9\\x88\\xd8\\xa7\\xd8\\xaf \\xd8\\xaf\\xd8\\xa7\\xd8\\xb1\\xd9\\x88\\xd9\\x8a\\xd9\\x8a',\n",
       "  b'53-\\xd8\\xb3\\xd9\\x8a\\xd9\\x85\\xd8\\xa7\\xd9\\x86',\n",
       "  b'56-\\xd8\\xb3\\xd8\\xb1\\xd9\\x85\\xd8\\xa7\\xd9\\x8a\\xd9\\x87 \\xda\\xaf\\xd8\\xb0\\xd8\\xa7\\xd8\\xb1\\xd9\\x8a\\xd9\\x87\\xd8\\xa7',\n",
       "  b'72-\\xd8\\xb1\\xd8\\xa7\\xd9\\x8a\\xd8\\xa7\\xd9\\x86\\xd9\\x87',\n",
       "  b'40-\\xd8\\xaa\\xd8\\xa7\\xd9\\x85\\xd9\\x8a\\xd9\\x86 \\xd8\\xa2\\xd8\\xa8\\xd8\\x8c \\xd8\\xa8\\xd8\\xb1\\xd9\\x82\\xd8\\x8c \\xda\\xaf\\xd8\\xa7\\xd8\\xb2',\n",
       "  b'23-\\xd9\\x81\\xd8\\xb1\\xd8\\xa7\\xd9\\x88\\xd8\\xb1\\xd8\\xaf\\xd9\\x87 \\xd9\\x86\\xd9\\x81\\xd8\\xaa\\xd9\\x8a',\n",
       "  b'31-\\xd8\\xaf\\xd8\\xb3\\xd8\\xaa\\xda\\xaf\\xd8\\xa7\\xd9\\x87\\xd9\\x87\\xd8\\xa7\\xd9\\x8a \\xd8\\xa8\\xd8\\xb1\\xd9\\x82\\xd9\\x8a',\n",
       "  b'54-\\xd9\\x83\\xd8\\xa7\\xd9\\x86\\xd9\\x8a \\xd8\\xba\\xd9\\x8a\\xd8\\xb1\\xd9\\x81\\xd9\\x84\\xd8\\xb2\\xd9\\x8a',\n",
       "  b'13-\\xd9\\x83\\xd8\\xa7\\xd9\\x86\\xd9\\x87 \\xd9\\x81\\xd9\\x84\\xd8\\xb2\\xd9\\x8a',\n",
       "  b'58-\\xd8\\xb3\\xd8\\xa7\\xd9\\x8a\\xd8\\xb1\\xd9\\x85\\xd8\\xa7\\xd9\\x84\\xd9\\x8a',\n",
       "  b'42-\\xd8\\xba\\xd8\\xb0\\xd8\\xa7\\xd9\\x8a\\xd9\\x8a \\xd8\\xa8\\xd8\\xac\\xd8\\xb2 \\xd9\\x82\\xd9\\x86\\xd8\\xaf',\n",
       "  b'29-\\xd9\\x85\\xd8\\xa7\\xd8\\xb4\\xd9\\x8a\\xd9\\x86 \\xd8\\xa2\\xd9\\x84\\xd8\\xa7\\xd8\\xaa',\n",
       "  b'39-\\xda\\x86\\xd9\\x86\\xd8\\xaf \\xd8\\xb1\\xd8\\xb4\\xd8\\xaa\\xd9\\x87 \\xd8\\xa7\\xd9\\x8a \\xd8\\xb5',\n",
       "  b'70-\\xd8\\xa7\\xd9\\x86\\xd8\\xa8\\xd9\\x88\\xd9\\x87 \\xd8\\xb3\\xd8\\xa7\\xd8\\xb2\\xd9\\x8a',\n",
       "  b'74-\\xd9\\x81\\xd9\\x86\\xd9\\x8a \\xd9\\x85\\xd9\\x87\\xd9\\x86\\xd8\\xaf\\xd8\\xb3\\xd9\\x8a',\n",
       "  b'73-\\xd8\\xa7\\xd8\\xb7\\xd9\\x84\\xd8\\xa7\\xd8\\xb9\\xd8\\xa7\\xd8\\xaa \\xd9\\x88 \\xd8\\xa7\\xd8\\xb1\\xd8\\xaa\\xd8\\xa8\\xd8\\xa7\\xd8\\xb7\\xd8\\xa7\\xd8\\xaa',\n",
       "  b'25-\\xd9\\x84\\xd8\\xa7\\xd8\\xb3\\xd8\\xaa\\xd9\\x8a\\xd9\\x83',\n",
       "  b'28-\\xd9\\x85\\xd8\\xad\\xd8\\xb5\\xd9\\x88\\xd9\\x84\\xd8\\xa7\\xd8\\xaa \\xd9\\x81\\xd9\\x84\\xd8\\xb2\\xd9\\x8a',\n",
       "  b'60-\\xd8\\xad\\xd9\\x85\\xd9\\x84 \\xd9\\x88 \\xd9\\x86\\xd9\\x82\\xd9\\x84',\n",
       "  b'38-\\xd9\\x82\\xd9\\x86\\xd8\\xaf \\xd9\\x88 \\xd8\\xb4\\xd9\\x83\\xd8\\xb1',\n",
       "  b'\\xd8\\xa8\\xd9\\x8a\\xd9\\x85\\xd9\\x87 \\xd9\\x88 \\xd8\\xa8\\xd8\\xa7\\xd8\\xb2\\xd9\\x86\\xd8\\xb4\\xd8\\xb3\\xd8\\xaa\\xd9\\x8766',\n",
       "  b'49-\\xda\\xa9\\xd8\\xa7\\xd8\\xb4\\xd9\\x8a \\xd9\\x88 \\xd8\\xb3\\xd8\\xb1\\xd8\\xa7\\xd9\\x85\\xd9\\x8a\\xd9\\x83',\n",
       "  b'67-\\xd8\\xa7\\xd8\\xaf\\xd8\\xa7\\xd8\\xb1\\xd9\\x87 \\xd8\\xa8\\xd8\\xa7\\xd8\\xb2\\xd8\\xa7\\xd8\\xb1\\xd9\\x87\\xd8\\xa7\\xd9\\x8a \\xd9\\x85\\xd8\\xa7\\xd9\\x84\\xd9\\x8a',\n",
       "  b'64-\\xd8\\xb1\\xd8\\xa7\\xd8\\xaf\\xd9\\x8a\\xd9\\x88\\xd9\\x8a\\xd9\\x8a',\n",
       "  b'\\xd8\\xa7\\xd8\\xb3\\xd8\\xaa\\xd8\\xae\\xd8\\xb1\\xd8\\xa7\\xd8\\xac\\xd9\\x86\\xd9\\x81\\xd8\\xaa\\xd8\\xac\\xd8\\xb2\\xd9\\x83\\xd8\\xb4\\xd9\\x8111',\n",
       "  b'21-\\xd9\\x85\\xd8\\xad\\xd8\\xb5\\xd9\\x88\\xd9\\x84\\xd8\\xa7\\xd8\\xaa \\xd9\\x83\\xd8\\xa7\\xd8\\xba\\xd8\\xb0',\n",
       "  b'01-\\xd8\\xb2\\xd8\\xb1\\xd8\\xa7\\xd8\\xb9\\xd8\\xaa',\n",
       "  b'10-\\xd8\\xb0\\xd8\\xba\\xd8\\xa7\\xd9\\x84 \\xd8\\xb3\\xd9\\x86\\xda\\xaf',\n",
       "  b'47\\xd8\\xae\\xd8\\xb1\\xd8\\xaf\\xd9\\x87 \\xd9\\x81\\xd8\\xb1\\xd9\\x88\\xd8\\xb4\\xd9\\x8a \\xd8\\xa8\\xd9\\x87 \\xd8\\xac\\xd8\\xb2 \\xd9\\x88\\xd8\\xb3\\xd8\\xa7\\xd9\\x8a\\xd9\\x84 \\xd9\\x86\\xd9\\x82\\xd9\\x84\\xd9\\x8a\\xd9\\x87',\n",
       "  b'14-\\xd8\\xb3\\xd8\\xa7\\xd9\\x8a\\xd8\\xb1 \\xd9\\x85\\xd8\\xb9\\xd8\\xa7\\xd8\\xaf\\xd9\\x86',\n",
       "  b'22-\\xd8\\xa7\\xd9\\x86\\xd8\\xaa\\xd8\\xb4\\xd8\\xa7\\xd8\\xb1 \\xd9\\x88 \\xda\\x86\\xd8\\xa7\\xd9\\xbe',\n",
       "  b'32-\\xd9\\x88\\xd8\\xb3\\xd8\\xa7\\xd9\\x8a\\xd9\\x84 \\xd8\\xa7\\xd8\\xb1\\xd8\\xaa\\xd8\\xa8\\xd8\\xa7\\xd8\\xb7\\xd9\\x8a',\n",
       "  b'17-\\xd9\\x85\\xd9\\x86\\xd8\\xb3\\xd9\\x88\\xd8\\xac\\xd8\\xa7\\xd8\\xaa',\n",
       "  b'20-\\xd9\\x85\\xd8\\xad\\xd8\\xb5\\xd9\\x88\\xd9\\x84\\xd8\\xa7\\xd8\\xaa \\xda\\x86\\xd9\\x88\\xd8\\xa8\\xd9\\x8a',\n",
       "  b'19-\\xd9\\x85\\xd8\\xad\\xd8\\xb5\\xd9\\x88\\xd9\\x84\\xd8\\xa7\\xd8\\xaa \\xda\\x86\\xd8\\xb1\\xd9\\x85\\xd9\\x8a',\n",
       "  b'33-\\xd8\\xa7\\xd8\\xa8\\xd8\\xb2\\xd8\\xa7\\xd8\\xb1 \\xd9\\xbe\\xd8\\xb2\\xd8\\xb4\\xd9\\x83\\xd9\\x8a'],\n",
       " 'MarketValue': [7650169488.0,\n",
       "  269025262.0,\n",
       "  644373421.0,\n",
       "  1900527339.0,\n",
       "  1389537365.0,\n",
       "  327414867.0,\n",
       "  132475867.0,\n",
       "  152416614.0,\n",
       "  234634329.0,\n",
       "  244839872.0,\n",
       "  796835303.0,\n",
       "  58769609.0,\n",
       "  39352522.0,\n",
       "  761443842.0,\n",
       "  22727610.0,\n",
       "  95823366.0,\n",
       "  58429483.0,\n",
       "  437081000.0,\n",
       "  43630457.0,\n",
       "  165223800.0,\n",
       "  25372000.0,\n",
       "  33797691.0,\n",
       "  29702528.0,\n",
       "  96448191.0,\n",
       "  40033876.0,\n",
       "  36108800.0,\n",
       "  11616352.0,\n",
       "  76231900.0,\n",
       "  334939200.0,\n",
       "  19399846.0,\n",
       "  6219562.0,\n",
       "  7747230.0,\n",
       "  2114180.0,\n",
       "  41123000.0,\n",
       "  1254852.0,\n",
       "  7046820.0,\n",
       "  3223500.0,\n",
       "  2614576.0,\n",
       "  3405027.0,\n",
       "  4561074.0,\n",
       "  9313400.0],\n",
       " 'TransactionsCount': [236046.0,\n",
       "  62425.0,\n",
       "  50274.0,\n",
       "  20390.0,\n",
       "  15898.0,\n",
       "  15010.0,\n",
       "  16479.0,\n",
       "  19931.0,\n",
       "  10125.0,\n",
       "  2738.0,\n",
       "  10137.0,\n",
       "  5850.0,\n",
       "  9250.0,\n",
       "  11983.0,\n",
       "  8676.0,\n",
       "  4472.0,\n",
       "  6272.0,\n",
       "  3757.0,\n",
       "  6455.0,\n",
       "  2758.0,\n",
       "  2063.0,\n",
       "  3553.0,\n",
       "  4777.0,\n",
       "  5880.0,\n",
       "  4669.0,\n",
       "  2991.0,\n",
       "  2535.0,\n",
       "  2975.0,\n",
       "  2216.0,\n",
       "  1230.0,\n",
       "  1317.0,\n",
       "  657.0,\n",
       "  639.0,\n",
       "  929.0,\n",
       "  789.0,\n",
       "  299.0,\n",
       "  168.0,\n",
       "  145.0,\n",
       "  76.0,\n",
       "  5.0,\n",
       "  0.0],\n",
       " 'TransactionsVol': [2740.0,\n",
       "  1399.0,\n",
       "  1447.0,\n",
       "  '172.604 ',\n",
       "  '112.454 ',\n",
       "  '90.188 ',\n",
       "  '141.383 ',\n",
       "  '298.003 ',\n",
       "  '127.488 ',\n",
       "  '42.805 ',\n",
       "  '32.724 ',\n",
       "  '41.629 ',\n",
       "  '40.843 ',\n",
       "  '70.270 ',\n",
       "  '168.368 ',\n",
       "  '36.102 ',\n",
       "  '37.891 ',\n",
       "  '68.575 ',\n",
       "  '88.702 ',\n",
       "  '24.869 ',\n",
       "  '24.196 ',\n",
       "  '21.118 ',\n",
       "  '56.331 ',\n",
       "  '38.844 ',\n",
       "  '12.820 ',\n",
       "  '47.100 ',\n",
       "  '18.037 ',\n",
       "  '12.208 ',\n",
       "  '27.713 ',\n",
       "  '12.571 ',\n",
       "  '4.050 ',\n",
       "  '3.840 ',\n",
       "  '2.203 ',\n",
       "  561815.0,\n",
       "  '2.381 ',\n",
       "  '1.906 ',\n",
       "  645886.0,\n",
       "  97867.0,\n",
       "  555894.0,\n",
       "  25209.0,\n",
       "  0.0],\n",
       " 'TransactionsValue': [10212891.0,\n",
       "  2610194.0,\n",
       "  1194232.0,\n",
       "  989110.0,\n",
       "  729291.0,\n",
       "  619402.0,\n",
       "  602031.0,\n",
       "  579976.0,\n",
       "  551518.0,\n",
       "  513549.0,\n",
       "  436921.0,\n",
       "  404823.0,\n",
       "  336782.0,\n",
       "  328300.0,\n",
       "  271096.0,\n",
       "  237861.0,\n",
       "  231235.0,\n",
       "  200216.0,\n",
       "  163857.0,\n",
       "  158853.0,\n",
       "  153477.0,\n",
       "  152628.0,\n",
       "  150879.0,\n",
       "  141262.0,\n",
       "  139909.0,\n",
       "  104581.0,\n",
       "  77872.0,\n",
       "  69444.0,\n",
       "  67117.0,\n",
       "  46808.0,\n",
       "  41133.0,\n",
       "  33343.0,\n",
       "  25174.0,\n",
       "  23104.0,\n",
       "  18445.0,\n",
       "  13567.0,\n",
       "  6940.0,\n",
       "  1576.0,\n",
       "  1405.0,\n",
       "  '481.920 ',\n",
       "  0.0]}"
      ]
     },
     "execution_count": 26,
     "metadata": {},
     "output_type": "execute_result"
    }
   ],
   "source": [
    "data"
   ]
  },
  {
   "cell_type": "code",
   "execution_count": 27,
   "metadata": {},
   "outputs": [
    {
     "data": {
      "text/html": [
       "<div>\n",
       "<style scoped>\n",
       "    .dataframe tbody tr th:only-of-type {\n",
       "        vertical-align: middle;\n",
       "    }\n",
       "\n",
       "    .dataframe tbody tr th {\n",
       "        vertical-align: top;\n",
       "    }\n",
       "\n",
       "    .dataframe thead th {\n",
       "        text-align: right;\n",
       "    }\n",
       "</style>\n",
       "<table border=\"1\" class=\"dataframe\">\n",
       "  <thead>\n",
       "    <tr style=\"text-align: right;\">\n",
       "      <th></th>\n",
       "      <th>CDate</th>\n",
       "      <th>JDate</th>\n",
       "      <th>GroupNo</th>\n",
       "      <th>GroupName</th>\n",
       "      <th>MarketValue</th>\n",
       "      <th>TransactionsCount</th>\n",
       "      <th>TransactionsVol</th>\n",
       "      <th>TransactionsValue</th>\n",
       "    </tr>\n",
       "  </thead>\n",
       "  <tbody>\n",
       "    <tr>\n",
       "      <th>0</th>\n",
       "      <td>2019-06-03</td>\n",
       "      <td>1398-03-13</td>\n",
       "      <td>0</td>\n",
       "      <td>b'\\xd8\\xb4\\xd8\\xa7\\xd8\\xae\\xd8\\xb5 \\xd8\\xb5\\xd...</td>\n",
       "      <td>7.650169e+09</td>\n",
       "      <td>236046.0</td>\n",
       "      <td>2740</td>\n",
       "      <td>1.02129e+07</td>\n",
       "    </tr>\n",
       "    <tr>\n",
       "      <th>1</th>\n",
       "      <td>2019-06-03</td>\n",
       "      <td>1398-03-13</td>\n",
       "      <td>34</td>\n",
       "      <td>b'34-\\xd8\\xae\\xd9\\x88\\xd8\\xaf\\xd8\\xb1\\xd9\\x88'</td>\n",
       "      <td>2.690253e+08</td>\n",
       "      <td>62425.0</td>\n",
       "      <td>1399</td>\n",
       "      <td>2.61019e+06</td>\n",
       "    </tr>\n",
       "    <tr>\n",
       "      <th>2</th>\n",
       "      <td>2019-06-03</td>\n",
       "      <td>1398-03-13</td>\n",
       "      <td>57</td>\n",
       "      <td>b'57-\\xd8\\xa8\\xd8\\xa7\\xd9\\x86\\xd9\\x83\\xd9\\x87\\...</td>\n",
       "      <td>6.443734e+08</td>\n",
       "      <td>50274.0</td>\n",
       "      <td>1447</td>\n",
       "      <td>1.19423e+06</td>\n",
       "    </tr>\n",
       "    <tr>\n",
       "      <th>3</th>\n",
       "      <td>2019-06-03</td>\n",
       "      <td>1398-03-13</td>\n",
       "      <td>44</td>\n",
       "      <td>b'44-\\xd8\\xb4\\xd9\\x8a\\xd9\\x85\\xd9\\x8a\\xd8\\xa7\\...</td>\n",
       "      <td>1.900527e+09</td>\n",
       "      <td>20390.0</td>\n",
       "      <td>172.604</td>\n",
       "      <td>989110</td>\n",
       "    </tr>\n",
       "    <tr>\n",
       "      <th>4</th>\n",
       "      <td>2019-06-03</td>\n",
       "      <td>1398-03-13</td>\n",
       "      <td>27</td>\n",
       "      <td>b'27-\\xd9\\x81\\xd9\\x84\\xd8\\xb2\\xd8\\xa7\\xd8\\xaa ...</td>\n",
       "      <td>1.389537e+09</td>\n",
       "      <td>15898.0</td>\n",
       "      <td>112.454</td>\n",
       "      <td>729291</td>\n",
       "    </tr>\n",
       "  </tbody>\n",
       "</table>\n",
       "</div>"
      ],
      "text/plain": [
       "        CDate       JDate GroupNo  \\\n",
       "0  2019-06-03  1398-03-13       0   \n",
       "1  2019-06-03  1398-03-13      34   \n",
       "2  2019-06-03  1398-03-13      57   \n",
       "3  2019-06-03  1398-03-13      44   \n",
       "4  2019-06-03  1398-03-13      27   \n",
       "\n",
       "                                           GroupName   MarketValue  \\\n",
       "0  b'\\xd8\\xb4\\xd8\\xa7\\xd8\\xae\\xd8\\xb5 \\xd8\\xb5\\xd...  7.650169e+09   \n",
       "1     b'34-\\xd8\\xae\\xd9\\x88\\xd8\\xaf\\xd8\\xb1\\xd9\\x88'  2.690253e+08   \n",
       "2  b'57-\\xd8\\xa8\\xd8\\xa7\\xd9\\x86\\xd9\\x83\\xd9\\x87\\...  6.443734e+08   \n",
       "3  b'44-\\xd8\\xb4\\xd9\\x8a\\xd9\\x85\\xd9\\x8a\\xd8\\xa7\\...  1.900527e+09   \n",
       "4  b'27-\\xd9\\x81\\xd9\\x84\\xd8\\xb2\\xd8\\xa7\\xd8\\xaa ...  1.389537e+09   \n",
       "\n",
       "   TransactionsCount TransactionsVol TransactionsValue  \n",
       "0           236046.0            2740       1.02129e+07  \n",
       "1            62425.0            1399       2.61019e+06  \n",
       "2            50274.0            1447       1.19423e+06  \n",
       "3            20390.0        172.604             989110  \n",
       "4            15898.0        112.454             729291  "
      ]
     },
     "execution_count": 27,
     "metadata": {},
     "output_type": "execute_result"
    }
   ],
   "source": [
    "# create new DataFrame with recently fetched data\n",
    "df = pd.DataFrame(data=data)\n",
    "df.head()"
   ]
  },
  {
   "cell_type": "code",
   "execution_count": 28,
   "metadata": {},
   "outputs": [
    {
     "data": {
      "text/html": [
       "<div>\n",
       "<style scoped>\n",
       "    .dataframe tbody tr th:only-of-type {\n",
       "        vertical-align: middle;\n",
       "    }\n",
       "\n",
       "    .dataframe tbody tr th {\n",
       "        vertical-align: top;\n",
       "    }\n",
       "\n",
       "    .dataframe thead th {\n",
       "        text-align: right;\n",
       "    }\n",
       "</style>\n",
       "<table border=\"1\" class=\"dataframe\">\n",
       "  <thead>\n",
       "    <tr style=\"text-align: right;\">\n",
       "      <th></th>\n",
       "      <th>CDate</th>\n",
       "      <th>JDate</th>\n",
       "      <th>GroupNo</th>\n",
       "      <th>GroupName</th>\n",
       "      <th>MarketValue</th>\n",
       "      <th>TransactionsCount</th>\n",
       "      <th>TransactionsVol</th>\n",
       "      <th>TransactionsValue</th>\n",
       "    </tr>\n",
       "  </thead>\n",
       "  <tbody>\n",
       "  </tbody>\n",
       "</table>\n",
       "</div>"
      ],
      "text/plain": [
       "Empty DataFrame\n",
       "Columns: [CDate, JDate, GroupNo, GroupName, MarketValue, TransactionsCount, TransactionsVol, TransactionsValue]\n",
       "Index: []"
      ]
     },
     "execution_count": 28,
     "metadata": {},
     "output_type": "execute_result"
    }
   ],
   "source": [
    "# read the original excel file\n",
    "df_main = pd.read_excel(file_path)\n",
    "df_main.head()"
   ]
  },
  {
   "cell_type": "code",
   "execution_count": 29,
   "metadata": {},
   "outputs": [
    {
     "data": {
      "text/html": [
       "<div>\n",
       "<style scoped>\n",
       "    .dataframe tbody tr th:only-of-type {\n",
       "        vertical-align: middle;\n",
       "    }\n",
       "\n",
       "    .dataframe tbody tr th {\n",
       "        vertical-align: top;\n",
       "    }\n",
       "\n",
       "    .dataframe thead th {\n",
       "        text-align: right;\n",
       "    }\n",
       "</style>\n",
       "<table border=\"1\" class=\"dataframe\">\n",
       "  <thead>\n",
       "    <tr style=\"text-align: right;\">\n",
       "      <th></th>\n",
       "      <th>CDate</th>\n",
       "      <th>JDate</th>\n",
       "      <th>GroupNo</th>\n",
       "      <th>GroupName</th>\n",
       "      <th>MarketValue</th>\n",
       "      <th>TransactionsCount</th>\n",
       "      <th>TransactionsVol</th>\n",
       "      <th>TransactionsValue</th>\n",
       "    </tr>\n",
       "  </thead>\n",
       "  <tbody>\n",
       "    <tr>\n",
       "      <th>0</th>\n",
       "      <td>2019-06-03</td>\n",
       "      <td>1398-03-13</td>\n",
       "      <td>0</td>\n",
       "      <td>b'\\xd8\\xb4\\xd8\\xa7\\xd8\\xae\\xd8\\xb5 \\xd8\\xb5\\xd...</td>\n",
       "      <td>7.650169e+09</td>\n",
       "      <td>236046.0</td>\n",
       "      <td>2740</td>\n",
       "      <td>1.02129e+07</td>\n",
       "    </tr>\n",
       "    <tr>\n",
       "      <th>1</th>\n",
       "      <td>2019-06-03</td>\n",
       "      <td>1398-03-13</td>\n",
       "      <td>34</td>\n",
       "      <td>b'34-\\xd8\\xae\\xd9\\x88\\xd8\\xaf\\xd8\\xb1\\xd9\\x88'</td>\n",
       "      <td>2.690253e+08</td>\n",
       "      <td>62425.0</td>\n",
       "      <td>1399</td>\n",
       "      <td>2.61019e+06</td>\n",
       "    </tr>\n",
       "    <tr>\n",
       "      <th>2</th>\n",
       "      <td>2019-06-03</td>\n",
       "      <td>1398-03-13</td>\n",
       "      <td>57</td>\n",
       "      <td>b'57-\\xd8\\xa8\\xd8\\xa7\\xd9\\x86\\xd9\\x83\\xd9\\x87\\...</td>\n",
       "      <td>6.443734e+08</td>\n",
       "      <td>50274.0</td>\n",
       "      <td>1447</td>\n",
       "      <td>1.19423e+06</td>\n",
       "    </tr>\n",
       "    <tr>\n",
       "      <th>3</th>\n",
       "      <td>2019-06-03</td>\n",
       "      <td>1398-03-13</td>\n",
       "      <td>44</td>\n",
       "      <td>b'44-\\xd8\\xb4\\xd9\\x8a\\xd9\\x85\\xd9\\x8a\\xd8\\xa7\\...</td>\n",
       "      <td>1.900527e+09</td>\n",
       "      <td>20390.0</td>\n",
       "      <td>172.604</td>\n",
       "      <td>989110</td>\n",
       "    </tr>\n",
       "    <tr>\n",
       "      <th>4</th>\n",
       "      <td>2019-06-03</td>\n",
       "      <td>1398-03-13</td>\n",
       "      <td>27</td>\n",
       "      <td>b'27-\\xd9\\x81\\xd9\\x84\\xd8\\xb2\\xd8\\xa7\\xd8\\xaa ...</td>\n",
       "      <td>1.389537e+09</td>\n",
       "      <td>15898.0</td>\n",
       "      <td>112.454</td>\n",
       "      <td>729291</td>\n",
       "    </tr>\n",
       "  </tbody>\n",
       "</table>\n",
       "</div>"
      ],
      "text/plain": [
       "        CDate       JDate GroupNo  \\\n",
       "0  2019-06-03  1398-03-13       0   \n",
       "1  2019-06-03  1398-03-13      34   \n",
       "2  2019-06-03  1398-03-13      57   \n",
       "3  2019-06-03  1398-03-13      44   \n",
       "4  2019-06-03  1398-03-13      27   \n",
       "\n",
       "                                           GroupName   MarketValue  \\\n",
       "0  b'\\xd8\\xb4\\xd8\\xa7\\xd8\\xae\\xd8\\xb5 \\xd8\\xb5\\xd...  7.650169e+09   \n",
       "1     b'34-\\xd8\\xae\\xd9\\x88\\xd8\\xaf\\xd8\\xb1\\xd9\\x88'  2.690253e+08   \n",
       "2  b'57-\\xd8\\xa8\\xd8\\xa7\\xd9\\x86\\xd9\\x83\\xd9\\x87\\...  6.443734e+08   \n",
       "3  b'44-\\xd8\\xb4\\xd9\\x8a\\xd9\\x85\\xd9\\x8a\\xd8\\xa7\\...  1.900527e+09   \n",
       "4  b'27-\\xd9\\x81\\xd9\\x84\\xd8\\xb2\\xd8\\xa7\\xd8\\xaa ...  1.389537e+09   \n",
       "\n",
       "   TransactionsCount TransactionsVol TransactionsValue  \n",
       "0           236046.0            2740       1.02129e+07  \n",
       "1            62425.0            1399       2.61019e+06  \n",
       "2            50274.0            1447       1.19423e+06  \n",
       "3            20390.0        172.604             989110  \n",
       "4            15898.0        112.454             729291  "
      ]
     },
     "execution_count": 29,
     "metadata": {},
     "output_type": "execute_result"
    }
   ],
   "source": [
    "# combine recently created DataFrame and the original one\n",
    "df1 = pd.concat([df_main, df], ignore_index=True, sort=False)\n",
    "df1.head()"
   ]
  },
  {
   "cell_type": "code",
   "execution_count": 30,
   "metadata": {},
   "outputs": [],
   "source": [
    "# Save the output to excel file\n",
    "df1.to_excel(excel_writer=file_path, index=False)"
   ]
  },
  {
   "cell_type": "code",
   "execution_count": null,
   "metadata": {},
   "outputs": [],
   "source": []
  },
  {
   "cell_type": "code",
   "execution_count": null,
   "metadata": {},
   "outputs": [],
   "source": []
  },
  {
   "cell_type": "code",
   "execution_count": null,
   "metadata": {},
   "outputs": [],
   "source": []
  },
  {
   "cell_type": "code",
   "execution_count": null,
   "metadata": {},
   "outputs": [],
   "source": []
  },
  {
   "cell_type": "code",
   "execution_count": null,
   "metadata": {},
   "outputs": [],
   "source": []
  }
 ],
 "metadata": {
  "kernelspec": {
   "display_name": "Python 3",
   "language": "python",
   "name": "python3"
  },
  "language_info": {
   "codemirror_mode": {
    "name": "ipython",
    "version": 3
   },
   "file_extension": ".py",
   "mimetype": "text/x-python",
   "name": "python",
   "nbconvert_exporter": "python",
   "pygments_lexer": "ipython3",
   "version": "3.7.1"
  }
 },
 "nbformat": 4,
 "nbformat_minor": 2
}
